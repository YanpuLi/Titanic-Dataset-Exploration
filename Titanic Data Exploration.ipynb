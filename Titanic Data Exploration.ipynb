{
 "cells": [
  {
   "cell_type": "code",
   "execution_count": 1,
   "metadata": {
    "collapsed": false
   },
   "outputs": [
    {
     "name": "stderr",
     "output_type": "stream",
     "text": [
      "/Users/Lesley/anaconda/lib/python2.7/site-packages/matplotlib/font_manager.py:273: UserWarning: Matplotlib is building the font cache using fc-list. This may take a moment.\n",
      "  warnings.warn('Matplotlib is building the font cache using fc-list. This may take a moment.')\n"
     ]
    }
   ],
   "source": [
    "import os, sys\n",
    "import pandas as pd\n",
    "import numpy as np\n",
    "import seaborn as sns\n",
    "sns.set_style('whitegrid')\n",
    "%matplotlib inline\n",
    "import matplotlib.pyplot as plt\n",
    "import re"
   ]
  },
  {
   "cell_type": "markdown",
   "metadata": {},
   "source": [
    "# Data Exploration"
   ]
  },
  {
   "cell_type": "code",
   "execution_count": 2,
   "metadata": {
    "collapsed": false
   },
   "outputs": [
    {
     "data": {
      "text/html": [
       "<div>\n",
       "<table border=\"1\" class=\"dataframe\">\n",
       "  <thead>\n",
       "    <tr style=\"text-align: right;\">\n",
       "      <th></th>\n",
       "      <th>PassengerId</th>\n",
       "      <th>Survived</th>\n",
       "      <th>Pclass</th>\n",
       "      <th>Name</th>\n",
       "      <th>Sex</th>\n",
       "      <th>Age</th>\n",
       "      <th>SibSp</th>\n",
       "      <th>Parch</th>\n",
       "      <th>Ticket</th>\n",
       "      <th>Fare</th>\n",
       "      <th>Cabin</th>\n",
       "      <th>Embarked</th>\n",
       "    </tr>\n",
       "  </thead>\n",
       "  <tbody>\n",
       "    <tr>\n",
       "      <th>0</th>\n",
       "      <td>1</td>\n",
       "      <td>0</td>\n",
       "      <td>3</td>\n",
       "      <td>Braund, Mr. Owen Harris</td>\n",
       "      <td>male</td>\n",
       "      <td>22</td>\n",
       "      <td>1</td>\n",
       "      <td>0</td>\n",
       "      <td>A/5 21171</td>\n",
       "      <td>7.2500</td>\n",
       "      <td>NaN</td>\n",
       "      <td>S</td>\n",
       "    </tr>\n",
       "    <tr>\n",
       "      <th>1</th>\n",
       "      <td>2</td>\n",
       "      <td>1</td>\n",
       "      <td>1</td>\n",
       "      <td>Cumings, Mrs. John Bradley (Florence Briggs Th...</td>\n",
       "      <td>female</td>\n",
       "      <td>38</td>\n",
       "      <td>1</td>\n",
       "      <td>0</td>\n",
       "      <td>PC 17599</td>\n",
       "      <td>71.2833</td>\n",
       "      <td>C85</td>\n",
       "      <td>C</td>\n",
       "    </tr>\n",
       "    <tr>\n",
       "      <th>2</th>\n",
       "      <td>3</td>\n",
       "      <td>1</td>\n",
       "      <td>3</td>\n",
       "      <td>Heikkinen, Miss. Laina</td>\n",
       "      <td>female</td>\n",
       "      <td>26</td>\n",
       "      <td>0</td>\n",
       "      <td>0</td>\n",
       "      <td>STON/O2. 3101282</td>\n",
       "      <td>7.9250</td>\n",
       "      <td>NaN</td>\n",
       "      <td>S</td>\n",
       "    </tr>\n",
       "    <tr>\n",
       "      <th>3</th>\n",
       "      <td>4</td>\n",
       "      <td>1</td>\n",
       "      <td>1</td>\n",
       "      <td>Futrelle, Mrs. Jacques Heath (Lily May Peel)</td>\n",
       "      <td>female</td>\n",
       "      <td>35</td>\n",
       "      <td>1</td>\n",
       "      <td>0</td>\n",
       "      <td>113803</td>\n",
       "      <td>53.1000</td>\n",
       "      <td>C123</td>\n",
       "      <td>S</td>\n",
       "    </tr>\n",
       "    <tr>\n",
       "      <th>4</th>\n",
       "      <td>5</td>\n",
       "      <td>0</td>\n",
       "      <td>3</td>\n",
       "      <td>Allen, Mr. William Henry</td>\n",
       "      <td>male</td>\n",
       "      <td>35</td>\n",
       "      <td>0</td>\n",
       "      <td>0</td>\n",
       "      <td>373450</td>\n",
       "      <td>8.0500</td>\n",
       "      <td>NaN</td>\n",
       "      <td>S</td>\n",
       "    </tr>\n",
       "  </tbody>\n",
       "</table>\n",
       "</div>"
      ],
      "text/plain": [
       "   PassengerId  Survived  Pclass  \\\n",
       "0            1         0       3   \n",
       "1            2         1       1   \n",
       "2            3         1       3   \n",
       "3            4         1       1   \n",
       "4            5         0       3   \n",
       "\n",
       "                                                Name     Sex  Age  SibSp  \\\n",
       "0                            Braund, Mr. Owen Harris    male   22      1   \n",
       "1  Cumings, Mrs. John Bradley (Florence Briggs Th...  female   38      1   \n",
       "2                             Heikkinen, Miss. Laina  female   26      0   \n",
       "3       Futrelle, Mrs. Jacques Heath (Lily May Peel)  female   35      1   \n",
       "4                           Allen, Mr. William Henry    male   35      0   \n",
       "\n",
       "   Parch            Ticket     Fare Cabin Embarked  \n",
       "0      0         A/5 21171   7.2500   NaN        S  \n",
       "1      0          PC 17599  71.2833   C85        C  \n",
       "2      0  STON/O2. 3101282   7.9250   NaN        S  \n",
       "3      0            113803  53.1000  C123        S  \n",
       "4      0            373450   8.0500   NaN        S  "
      ]
     },
     "execution_count": 2,
     "metadata": {},
     "output_type": "execute_result"
    }
   ],
   "source": [
    "training = pd.read_csv('./data/train.csv')\n",
    "testing = pd.read_csv('./data/test.csv')\n",
    "training.head()"
   ]
  },
  {
   "cell_type": "code",
   "execution_count": 3,
   "metadata": {
    "collapsed": false
   },
   "outputs": [
    {
     "name": "stdout",
     "output_type": "stream",
     "text": [
      "Dimension of train data (891, 12)\n",
      "Dimension of test data (418, 11)\n",
      "Training Set\n",
      "<class 'pandas.core.frame.DataFrame'>\n",
      "Int64Index: 891 entries, 0 to 890\n",
      "Data columns (total 12 columns):\n",
      "PassengerId    891 non-null int64\n",
      "Survived       891 non-null int64\n",
      "Pclass         891 non-null int64\n",
      "Name           891 non-null object\n",
      "Sex            891 non-null object\n",
      "Age            714 non-null float64\n",
      "SibSp          891 non-null int64\n",
      "Parch          891 non-null int64\n",
      "Ticket         891 non-null object\n",
      "Fare           891 non-null float64\n",
      "Cabin          204 non-null object\n",
      "Embarked       889 non-null object\n",
      "dtypes: float64(2), int64(5), object(5)\n",
      "memory usage: 90.5+ KB\n",
      "\n",
      "       PassengerId    Survived      Pclass         Age       SibSp  \\\n",
      "count   891.000000  891.000000  891.000000  714.000000  891.000000   \n",
      "mean    446.000000    0.383838    2.308642   29.699118    0.523008   \n",
      "std     257.353842    0.486592    0.836071   14.526497    1.102743   \n",
      "min       1.000000    0.000000    1.000000    0.420000    0.000000   \n",
      "25%     223.500000    0.000000    2.000000   20.125000    0.000000   \n",
      "50%     446.000000    0.000000    3.000000   28.000000    0.000000   \n",
      "75%     668.500000    1.000000    3.000000   38.000000    1.000000   \n",
      "max     891.000000    1.000000    3.000000   80.000000    8.000000   \n",
      "\n",
      "            Parch        Fare  \n",
      "count  891.000000  891.000000  \n",
      "mean     0.381594   32.204208  \n",
      "std      0.806057   49.693429  \n",
      "min      0.000000    0.000000  \n",
      "25%      0.000000    7.910400  \n",
      "50%      0.000000   14.454200  \n",
      "75%      0.000000   31.000000  \n",
      "max      6.000000  512.329200  \n",
      "\n",
      "Testing Set\n",
      "<class 'pandas.core.frame.DataFrame'>\n",
      "Int64Index: 418 entries, 0 to 417\n",
      "Data columns (total 11 columns):\n",
      "PassengerId    418 non-null int64\n",
      "Pclass         418 non-null int64\n",
      "Name           418 non-null object\n",
      "Sex            418 non-null object\n",
      "Age            332 non-null float64\n",
      "SibSp          418 non-null int64\n",
      "Parch          418 non-null int64\n",
      "Ticket         418 non-null object\n",
      "Fare           417 non-null float64\n",
      "Cabin          91 non-null object\n",
      "Embarked       418 non-null object\n",
      "dtypes: float64(2), int64(4), object(5)\n",
      "memory usage: 39.2+ KB\n",
      "\n",
      "       PassengerId      Pclass         Age       SibSp       Parch        Fare\n",
      "count   418.000000  418.000000  332.000000  418.000000  418.000000  417.000000\n",
      "mean   1100.500000    2.265550   30.272590    0.447368    0.392344   35.627188\n",
      "std     120.810458    0.841838   14.181209    0.896760    0.981429   55.907576\n",
      "min     892.000000    1.000000    0.170000    0.000000    0.000000    0.000000\n",
      "25%     996.250000    1.000000   21.000000    0.000000    0.000000    7.895800\n",
      "50%    1100.500000    3.000000   27.000000    0.000000    0.000000   14.454200\n",
      "75%    1204.750000    3.000000   39.000000    1.000000    0.000000   31.500000\n",
      "max    1309.000000    3.000000   76.000000    8.000000    9.000000  512.329200\n"
     ]
    }
   ],
   "source": [
    "print \"Dimension of train data {}\".format(training.shape)\n",
    "print \"Dimension of test data {}\".format(testing.shape)\n",
    "print \"Training Set\"\n",
    "training.info()\n",
    "print \n",
    "print training.describe()\n",
    "print\n",
    "print \"Testing Set\"\n",
    "testing.info()\n",
    "print \n",
    "print testing.describe()\n"
   ]
  },
  {
   "cell_type": "code",
   "execution_count": 4,
   "metadata": {
    "collapsed": false
   },
   "outputs": [
    {
     "name": "stdout",
     "output_type": "stream",
     "text": [
      "Training Set\n",
      "Feature Pclass set([1, 2, 3])\n",
      "Feature Sex set(['male', 'female'])\n",
      "Feature SibSp set([0, 1, 2, 3, 4, 5, 8])\n",
      "Feature Parch set([0, 1, 2, 3, 4, 5, 6])\n",
      "Feature Cabin set([nan, 'C78', 'D17', 'D50', 'E77', 'C30', 'D56', 'C32', 'G6', 'B50', 'C62 C64', 'D', 'B102', 'B101', 'E68', 'F33', 'T', 'F38', 'A24', 'E63', 'E67', 'B28', 'B22', 'B20', 'B4', 'B5', 'B58 B60', 'B3', 'F G73', 'C54', 'C52', 'C50', 'C46', 'F E69', 'E58', 'E50', 'D28', 'B38', 'B39', 'B35', 'B37', 'B30', 'E121', 'B71', 'E8', 'F G63', 'C45', 'E40', 'C47', 'E46', 'E44', 'B80', 'E49', 'C49', 'B86', 'B82 B84', 'C23 C25 C27', 'D48', 'C104', 'C106', 'C101', 'C103', 'D15', 'E34', 'E33', 'D11', 'E31', 'C70', 'B94', 'D19', 'E38', 'E36', 'B18', 'B19', 'D37', 'A32', 'A31', 'A36', 'A34', 'E101', 'C118', 'C2', 'C7', 'C111', 'C110', 'E24', 'E25', 'E12', 'B57 B59 B63 B66', 'C68', 'D21', 'D20', 'C65', 'D26', 'E17', 'A20', 'F2', 'A23', 'F4', 'A26', 'B69', 'B42', 'C128', 'C123', 'C126', 'C124', 'C125', 'B51 B53 B55', 'D36', 'E10', 'D35', 'D33', 'D30', 'B96 B98', 'D10 D12', 'C93', 'A14', 'C91', 'B73', 'A10', 'C95', 'B77', 'B78', 'B79', 'C99', 'A19', 'C90', 'A5', 'A7', 'A6', 'C22 C26', 'C92', 'D49', 'A16', 'D47', 'D46', 'D45', 'C82', 'C83', 'B41', 'C85', 'C86', 'C87', 'C148', 'B49', 'D9', 'D6', 'D7'])\n",
      "Feature Embarked set(['Q', nan, 'S', 'C'])\n",
      "Testing Set\n",
      "Feature Pclass set([1, 2, 3])\n",
      "Feature Sex set(['male', 'female'])\n",
      "Feature SibSp set([0, 1, 2, 3, 4, 5, 8])\n",
      "Feature Parch set([0, 1, 2, 3, 4, 5, 6, 9])\n",
      "Feature Cabin set([nan, 'D15', 'C54', 'C53', 'B52 B54 B56', 'E31', 'C78', 'D37', 'D34', 'D19', 'D30', 'B24', 'C55 C57', 'B26', 'E34', 'F E46', 'D10 D12', 'B10', 'B11', 'E60', 'E46', 'C105', 'C31', 'E50', 'D28', 'E52', 'B41', 'B71', 'C97', 'C130', 'C132', 'B78', 'B36', 'E45', 'A18', 'B51 B53 B55', 'A34', 'A9', 'F G63', 'C32', 'C7', 'C6', 'C22 C26', 'C80', 'C46', 'B57 B59 B63 B66', 'D', 'D38', 'F', 'D21', 'C28', 'D22', 'F2', 'F33', 'F E57', 'C116', 'D43', 'A11', 'D40', 'E39 E41', 'C85', 'B45', 'A21', 'B61', 'F4', 'G6', 'C86', 'A29', 'B69', 'C23 C25 C27', 'C51', 'C62 C64', 'B58 B60', 'C89', 'C39', 'C106', 'C101'])\n",
      "Feature Embarked set(['Q', 'S', 'C'])\n",
      "\n",
      "0    549\n",
      "1    342\n",
      "Name: Survived, dtype: int64\n"
     ]
    }
   ],
   "source": [
    "keys = ['Pclass', 'Sex', 'Age', 'SibSp', 'Parch', 'Fare', 'Cabin', 'Embarked']\n",
    "print \"Training Set\"\n",
    "for item in keys:\n",
    "    if item != 'Fare' and item != 'Age':\n",
    "        print \"Feature %s\"%item, set(training[item])\n",
    "print \"Testing Set\"\n",
    "for item in keys:\n",
    "    if item != 'Fare' and item != 'Age':\n",
    "        print \"Feature %s\"%item, set(testing[item])\n",
    "print\n",
    "print training.Survived.value_counts()"
   ]
  },
  {
   "cell_type": "code",
   "execution_count": 3,
   "metadata": {
    "collapsed": false
   },
   "outputs": [
    {
     "data": {
      "text/plain": [
       "<matplotlib.legend.Legend at 0x11c22f850>"
      ]
     },
     "execution_count": 3,
     "metadata": {},
     "output_type": "execute_result"
    },
    {
     "data": {
      "image/png": "[encoded data removed]",
      "text/plain": [
       "<matplotlib.figure.Figure at 0x1192e72d0>"
      ]
     },
     "metadata": {},
     "output_type": "display_data"
    },
    {
     "data": {
      "image/png": "[encoded data removed]",
      "text/plain": [
       "<matplotlib.figure.Figure at 0x11b96f950>"
      ]
     },
     "metadata": {},
     "output_type": "display_data"
    }
   ],
   "source": [
    "'''\n",
    "alpha for transparency\n",
    "plt.subplot(i,j,z) => plt.subplot2grid((i,j), (a,b))\n",
    "i: rownum j:colnum z:figurenum\n",
    "\n",
    "kind: kde -> density plot\n",
    "'''\n",
    "plt.rc('font', size=13)\n",
    "fig = plt.figure(figsize=(18, 8))\n",
    "alpha = 0.5\n",
    "\n",
    "ax1 = plt.subplot2grid((2,2),(0,0))\n",
    "training.Age.value_counts().plot(kind='kde', color='#FA2379', label='train', alpha=alpha)\n",
    "testing.Age.value_counts().plot(kind='kde', label='test', alpha=alpha)\n",
    "ax1.set_xlabel('Age')\n",
    "ax1.set_title(\"What's the distribution of age?\" )\n",
    "ax1.grid()\n",
    "plt.legend(loc='best')\n",
    "\n",
    "ax2 = plt.subplot2grid((2,2), (0,1))\n",
    "training.Pclass.value_counts().plot(kind='barh', color='#FA2379', label='train', alpha=alpha)\n",
    "testing.Pclass.value_counts().plot(kind='barh', label='test', alpha=alpha)\n",
    "ax2.set_ylabel('Pclass')\n",
    "ax2.set_xlabel('Frequency')\n",
    "ax2.set_title(\"What's the distribution of Pclass?\" )\n",
    "plt.legend(loc='best')\n",
    "\n",
    "ax3 = plt.subplot2grid((2,2), (1,0))\n",
    "training.Sex.value_counts().plot(kind='barh', color='#FA2379', label='train', alpha=alpha)\n",
    "testing.Sex.value_counts().plot(kind='barh', label='test', alpha=alpha)\n",
    "ax3.set_ylabel('Sex')\n",
    "ax3.set_xlabel('Frequency')\n",
    "ax3.set_title(\"What's the distribution of Sex?\" )\n",
    "plt.legend(loc='best')\n",
    "\n",
    "ax4 = plt.subplot2grid((2,2), (1,1))\n",
    "training.Embarked.value_counts().plot(kind='barh', color='#FA2379', label='train', alpha=alpha)\n",
    "testing.Embarked.value_counts().plot(kind='barh', label='test', alpha=alpha)\n",
    "ax4.set_ylabel('Embarked')\n",
    "ax4.set_xlabel('Frequency')\n",
    "ax4.set_title(\"What's the distribution of Embarked?\" )\n",
    "plt.legend(loc='best')\n",
    "plt.tight_layout()\n",
    "\n",
    "fig2 = plt.figure(figsize=(8, 3))\n",
    "training.Fare.value_counts().plot(kind='kde', color='#FA2379', label='train', alpha=alpha)\n",
    "testing.Fare.value_counts().plot(kind='kde', label='test', alpha=alpha)\n",
    "plt.xlabel('Fare')\n",
    "plt.title(\"What's the distribution of Fare?\" )\n",
    "plt.grid()\n",
    "plt.legend(loc='best')"
   ]
  },
  {
   "cell_type": "code",
   "execution_count": 6,
   "metadata": {
    "collapsed": false
   },
   "outputs": [
    {
     "data": {
      "image/png": "[encoded data removed]",
      "text/plain": [
       "<matplotlib.figure.Figure at 0x115625710>"
      ]
     },
     "metadata": {},
     "output_type": "display_data"
    }
   ],
   "source": [
    "#Age vs Survival\n",
    "fig = plt.figure(figsize=(15, 6))\n",
    "\n",
    "training[training.Survived==0].Age.value_counts().plot(kind='density', color='#FA2379', label='Not Survived', alpha=alpha)\n",
    "training[training.Survived==1].Age.value_counts().plot(kind='density', label='Survived', alpha=alpha)\n",
    "plt.xlabel('Age')\n",
    "plt.title(\"What's the distribution of Age?\" )\n",
    "plt.legend(loc='best')\n",
    "plt.grid()"
   ]
  },
  {
   "cell_type": "code",
   "execution_count": 7,
   "metadata": {
    "collapsed": false
   },
   "outputs": [
    {
     "data": {
      "image/png": "[encoded data removed]",
      "text/plain": [
       "<matplotlib.figure.Figure at 0x11848ec90>"
      ]
     },
     "metadata": {},
     "output_type": "display_data"
    }
   ],
   "source": [
    "#sex vs survival\n",
    "df_male = training[training.Sex=='male'].Survived.value_counts().sort_index()\n",
    "df_female = training[training.Sex=='female'].Survived.value_counts().sort_index()\n",
    "fig = plt.figure(figsize=(12, 4))\n",
    "\n",
    "(df_female/training[training.Sex=='female'].shape[0]).plot(kind='barh', color='#FA2379', label='Female', alpha=alpha)\n",
    "(df_male/training[training.Sex=='male'].shape[0]).plot(kind='barh', label='Male', alpha=alpha-0.1)\n",
    "plt.xlabel('Rate')\n",
    "\n",
    "plt.yticks([0, 1], ['Died', 'Survived'])\n",
    "plt.title(\"What's the survived rate with respect to sex?\" )\n",
    "plt.legend(loc='best')\n",
    "plt.grid()\n",
    " "
   ]
  },
  {
   "cell_type": "code",
   "execution_count": 8,
   "metadata": {
    "collapsed": false
   },
   "outputs": [
    {
     "data": {
      "image/png": "[encoded data removed]",
      "text/plain": [
       "<matplotlib.figure.Figure at 0x11848eb90>"
      ]
     },
     "metadata": {},
     "output_type": "display_data"
    }
   ],
   "source": [
    "#class vs survival\n",
    "df_male = training[training.Sex=='male']\n",
    "df_female = training[training.Sex=='female']\n",
    "fig = plt.figure(figsize=(18, 6))\n",
    "\n",
    "ax1 = plt.subplot2grid((1,4), (0,0))\n",
    "df_female[df_female.Pclass<3].Survived.value_counts().sort_index().plot(kind='bar', color='#FA2379', alpha=alpha)\n",
    "ax1.set_ylabel('Frequrncy')\n",
    "ax1.set_ylim((0,350))\n",
    "ax1.set_xticklabels(['Died', 'Survived'])\n",
    "ax1.set_title(\"How will high-class female survived?\", y=1.05)\n",
    "plt.grid()\n",
    "\n",
    "ax2 = plt.subplot2grid((1,4), (0,1))\n",
    "df_female[df_female.Pclass==3].Survived.value_counts().sort_index().plot(kind='bar', color='#23FA79', alpha=alpha)\n",
    "ax2.set_ylabel('Frequrncy')\n",
    "ax2.set_ylim((0,350))\n",
    "ax2.set_xticklabels(['Died', 'Survived'])\n",
    "ax2.set_title(\"How will low-class female survived?\", y=1.05)\n",
    "plt.grid()\n",
    "\n",
    "ax3 = plt.subplot2grid((1,4), (0,2))\n",
    "df_male[df_male.Pclass<3].Survived.value_counts().sort_index().plot(kind='bar', color='#00FA23', alpha=alpha)\n",
    "ax3.set_ylabel('Frequrncy')\n",
    "ax3.set_ylim((0,350))\n",
    "ax3.set_xticklabels(['Died', 'Survived'])\n",
    "ax3.set_title(\"How will high-class male survived?\", y=1.05)\n",
    "plt.grid()\n",
    "\n",
    "ax4 = plt.subplot2grid((1,4), (0,3))\n",
    "df_male[df_male.Pclass==3].Survived.value_counts().sort_index().plot(kind='bar', color='#2379FA', alpha=alpha)\n",
    "ax4.set_ylabel('Frequrncy')\n",
    "ax4.set_ylim((0,350))\n",
    "ax4.set_xticklabels(['Died', 'Survived'])\n",
    "ax4.set_title(\"How will low-class male survived?\", y=1.05)\n",
    "plt.grid()\n",
    "plt.tight_layout()"
   ]
  },
  {
   "cell_type": "code",
   "execution_count": 9,
   "metadata": {
    "collapsed": false
   },
   "outputs": [
    {
     "data": {
      "text/plain": [
       "<matplotlib.axes._subplots.AxesSubplot at 0x1190d06d0>"
      ]
     },
     "execution_count": 9,
     "metadata": {},
     "output_type": "execute_result"
    },
    {
     "data": {
      "image/png": "[encoded data removed]",
      "text/plain": [
       "<matplotlib.figure.Figure at 0x1187da910>"
      ]
     },
     "metadata": {},
     "output_type": "display_data"
    }
   ],
   "source": [
    "#Embarked\n",
    "\n",
    "fig, (axis1,axis2) = plt.subplots(1,2,figsize=(15,5))\n",
    "\n",
    "sns.barplot(x =\"Embarked\", y = 'Survived',hue=\"Embarked\", data=training, ax = axis1)\n",
    "sns.countplot(x='Survived', hue=\"Embarked\", data=training, order=[1,0], ax = axis2)"
   ]
  },
  {
   "cell_type": "code",
   "execution_count": 10,
   "metadata": {
    "collapsed": false
   },
   "outputs": [
    {
     "data": {
      "image/png": "[encoded data removed]",
      "text/plain": [
       "<matplotlib.figure.Figure at 0x119220f90>"
      ]
     },
     "metadata": {},
     "output_type": "display_data"
    }
   ],
   "source": [
    "\n",
    "plt.rc('font', size=13)\n",
    "fig = plt.figure(figsize=(12, 4))\n",
    "alpha = 0.5\n",
    "\n",
    "ax1 = plt.subplot2grid((1,2),(0,0))\n",
    "training.Fare.value_counts().plot(kind='kde', color='#FA2379', label='train', alpha=alpha)\n",
    "testing.Fare.value_counts().plot(kind='kde', label='test', alpha=alpha)\n",
    "ax1.set_xlabel('Fare')\n",
    "ax1.set_title(\"What's the distribution of Fare?\" )\n",
    "ax1.grid()\n",
    "plt.legend(loc='best')\n",
    "\n",
    "ax2 = plt.subplot2grid((1,2),(0,1))\n",
    "training[training.Survived==0].Fare.value_counts().plot(kind='density', color='#FA2379', label='Not Survived', alpha=alpha)\n",
    "training[training.Survived==1].Fare.value_counts().plot(kind='density', label='Survived', alpha=alpha)\n",
    "ax2.set_xlabel('Fare')\n",
    "ax2.set_title(\"What's the distribution of Fare?\" )\n",
    "plt.legend(loc='best')\n",
    "plt.grid()\n",
    "plt.tight_layout()"
   ]
  },
  {
   "cell_type": "code",
   "execution_count": null,
   "metadata": {
    "collapsed": true
   },
   "outputs": [],
   "source": []
  },
  {
   "cell_type": "code",
   "execution_count": 63,
   "metadata": {
    "collapsed": false
   },
   "outputs": [
    {
     "data": {
      "text/html": [
       "<div>\n",
       "<table border=\"1\" class=\"dataframe\">\n",
       "  <thead>\n",
       "    <tr style=\"text-align: right;\">\n",
       "      <th></th>\n",
       "      <th>PassengerId</th>\n",
       "      <th>Survived</th>\n",
       "      <th>Pclass</th>\n",
       "      <th>Name</th>\n",
       "      <th>Sex</th>\n",
       "      <th>Age</th>\n",
       "      <th>SibSp</th>\n",
       "      <th>Parch</th>\n",
       "      <th>Ticket</th>\n",
       "      <th>Fare</th>\n",
       "      <th>Cabin</th>\n",
       "      <th>Embarked</th>\n",
       "    </tr>\n",
       "  </thead>\n",
       "  <tbody>\n",
       "    <tr>\n",
       "      <th>74</th>\n",
       "      <td>75</td>\n",
       "      <td>1</td>\n",
       "      <td>3</td>\n",
       "      <td>Bing, Mr. Lee</td>\n",
       "      <td>male</td>\n",
       "      <td>14</td>\n",
       "      <td>0</td>\n",
       "      <td>0</td>\n",
       "      <td>1601</td>\n",
       "      <td>56.4958</td>\n",
       "      <td>NaN</td>\n",
       "      <td>S</td>\n",
       "    </tr>\n",
       "    <tr>\n",
       "      <th>169</th>\n",
       "      <td>170</td>\n",
       "      <td>0</td>\n",
       "      <td>3</td>\n",
       "      <td>Ling, Mr. Lee</td>\n",
       "      <td>male</td>\n",
       "      <td>20</td>\n",
       "      <td>0</td>\n",
       "      <td>0</td>\n",
       "      <td>1601</td>\n",
       "      <td>56.4958</td>\n",
       "      <td>NaN</td>\n",
       "      <td>S</td>\n",
       "    </tr>\n",
       "    <tr>\n",
       "      <th>509</th>\n",
       "      <td>510</td>\n",
       "      <td>1</td>\n",
       "      <td>3</td>\n",
       "      <td>Lang, Mr. Fang</td>\n",
       "      <td>male</td>\n",
       "      <td>36</td>\n",
       "      <td>0</td>\n",
       "      <td>0</td>\n",
       "      <td>1601</td>\n",
       "      <td>56.4958</td>\n",
       "      <td>NaN</td>\n",
       "      <td>S</td>\n",
       "    </tr>\n",
       "    <tr>\n",
       "      <th>643</th>\n",
       "      <td>644</td>\n",
       "      <td>1</td>\n",
       "      <td>3</td>\n",
       "      <td>Foo, Mr. Choong</td>\n",
       "      <td>male</td>\n",
       "      <td>50</td>\n",
       "      <td>0</td>\n",
       "      <td>0</td>\n",
       "      <td>1601</td>\n",
       "      <td>56.4958</td>\n",
       "      <td>NaN</td>\n",
       "      <td>S</td>\n",
       "    </tr>\n",
       "    <tr>\n",
       "      <th>692</th>\n",
       "      <td>693</td>\n",
       "      <td>1</td>\n",
       "      <td>3</td>\n",
       "      <td>Lam, Mr. Ali</td>\n",
       "      <td>male</td>\n",
       "      <td>61</td>\n",
       "      <td>0</td>\n",
       "      <td>0</td>\n",
       "      <td>1601</td>\n",
       "      <td>56.4958</td>\n",
       "      <td>NaN</td>\n",
       "      <td>S</td>\n",
       "    </tr>\n",
       "    <tr>\n",
       "      <th>826</th>\n",
       "      <td>827</td>\n",
       "      <td>0</td>\n",
       "      <td>3</td>\n",
       "      <td>Lam, Mr. Len</td>\n",
       "      <td>male</td>\n",
       "      <td>NaN</td>\n",
       "      <td>0</td>\n",
       "      <td>0</td>\n",
       "      <td>1601</td>\n",
       "      <td>56.4958</td>\n",
       "      <td>NaN</td>\n",
       "      <td>S</td>\n",
       "    </tr>\n",
       "    <tr>\n",
       "      <th>838</th>\n",
       "      <td>839</td>\n",
       "      <td>1</td>\n",
       "      <td>3</td>\n",
       "      <td>Chip, Mr. Chang</td>\n",
       "      <td>male</td>\n",
       "      <td>NaN</td>\n",
       "      <td>0</td>\n",
       "      <td>0</td>\n",
       "      <td>1601</td>\n",
       "      <td>56.4958</td>\n",
       "      <td>NaN</td>\n",
       "      <td>S</td>\n",
       "    </tr>\n",
       "  </tbody>\n",
       "</table>\n",
       "</div>"
      ],
      "text/plain": [
       "     PassengerId  Survived  Pclass             Name   Sex  Age  SibSp  Parch  \\\n",
       "74            75         1       3    Bing, Mr. Lee  male   14      0      0   \n",
       "169          170         0       3    Ling, Mr. Lee  male   20      0      0   \n",
       "509          510         1       3   Lang, Mr. Fang  male   36      0      0   \n",
       "643          644         1       3  Foo, Mr. Choong  male   50      0      0   \n",
       "692          693         1       3     Lam, Mr. Ali  male   61      0      0   \n",
       "826          827         0       3     Lam, Mr. Len  male  NaN      0      0   \n",
       "838          839         1       3  Chip, Mr. Chang  male  NaN      0      0   \n",
       "\n",
       "    Ticket     Fare Cabin Embarked  \n",
       "74    1601  56.4958   NaN        S  \n",
       "169   1601  56.4958   NaN        S  \n",
       "509   1601  56.4958   NaN        S  \n",
       "643   1601  56.4958   NaN        S  \n",
       "692   1601  56.4958   NaN        S  \n",
       "826   1601  56.4958   NaN        S  \n",
       "838   1601  56.4958   NaN        S  "
      ]
     },
     "execution_count": 63,
     "metadata": {},
     "output_type": "execute_result"
    }
   ],
   "source": [
    "'''\n",
    "We could see that if the value of Ticket is the same, passenger would be close, \n",
    "like friends or familes. But sometimes it will not be the case, so we need to carefully handle it.\n",
    "'''\n",
    "training[training.Ticket=='1601']"
   ]
  },
  {
   "cell_type": "code",
   "execution_count": 64,
   "metadata": {
    "collapsed": false
   },
   "outputs": [
    {
     "data": {
      "text/plain": [
       "PassengerId      0\n",
       "Survived         0\n",
       "Pclass           0\n",
       "Name             0\n",
       "Sex              0\n",
       "Age            177\n",
       "SibSp            0\n",
       "Parch            0\n",
       "Ticket           0\n",
       "Fare             0\n",
       "Cabin          687\n",
       "Embarked         2\n",
       "dtype: int64"
      ]
     },
     "execution_count": 64,
     "metadata": {},
     "output_type": "execute_result"
    }
   ],
   "source": [
    "training.isnull().sum()"
   ]
  },
  {
   "cell_type": "code",
   "execution_count": 132,
   "metadata": {
    "collapsed": false
   },
   "outputs": [
    {
     "data": {
      "text/plain": [
       "PassengerId      0\n",
       "Pclass           0\n",
       "Name             0\n",
       "Sex              0\n",
       "Age             86\n",
       "SibSp            0\n",
       "Parch            0\n",
       "Ticket           0\n",
       "Fare             1\n",
       "Cabin          327\n",
       "Embarked         0\n",
       "dtype: int64"
      ]
     },
     "execution_count": 132,
     "metadata": {},
     "output_type": "execute_result"
    }
   ],
   "source": [
    "testing.isnull().sum()"
   ]
  },
  {
   "cell_type": "markdown",
   "metadata": {},
   "source": [
    "# Data Cleaning"
   ]
  },
  {
   "cell_type": "code",
   "execution_count": 225,
   "metadata": {
    "collapsed": false
   },
   "outputs": [],
   "source": [
    "#training.drop(\"Name\",axis=1,inplace=True)\n",
    "#testing.drop(\"Name\",axis=1,inplace=True)\n",
    "training.drop([\"Cabin\", \"Ticket\"],axis=1,inplace=True)\n",
    "testing.drop([\"Cabin\", \"Ticket\"],axis=1,inplace=True)"
   ]
  },
  {
   "cell_type": "raw",
   "metadata": {},
   "source": [
    "Missing Value"
   ]
  },
  {
   "cell_type": "code",
   "execution_count": 4,
   "metadata": {
    "collapsed": false
   },
   "outputs": [
    {
     "data": {
      "text/html": [
       "<div>\n",
       "<table border=\"1\" class=\"dataframe\">\n",
       "  <thead>\n",
       "    <tr style=\"text-align: right;\">\n",
       "      <th></th>\n",
       "      <th>Fare</th>\n",
       "      <th>Pclass</th>\n",
       "      <th>Embarked</th>\n",
       "    </tr>\n",
       "  </thead>\n",
       "  <tbody>\n",
       "    <tr>\n",
       "      <th>61</th>\n",
       "      <td>80</td>\n",
       "      <td>1</td>\n",
       "      <td>NaN</td>\n",
       "    </tr>\n",
       "    <tr>\n",
       "      <th>829</th>\n",
       "      <td>80</td>\n",
       "      <td>1</td>\n",
       "      <td>NaN</td>\n",
       "    </tr>\n",
       "  </tbody>\n",
       "</table>\n",
       "</div>"
      ],
      "text/plain": [
       "     Fare  Pclass Embarked\n",
       "61     80       1      NaN\n",
       "829    80       1      NaN"
      ]
     },
     "execution_count": 4,
     "metadata": {},
     "output_type": "execute_result"
    },
    {
     "data": {
      "image/png": "[encoded data removed]",
      "text/plain": [
       "<matplotlib.figure.Figure at 0x1192e70d0>"
      ]
     },
     "metadata": {},
     "output_type": "display_data"
    }
   ],
   "source": [
    "fig = plt.figure(figsize=(8, 5))\n",
    "ax = fig.add_subplot(111)\n",
    "ax = training.boxplot(column='Fare', by=['Embarked','Pclass'], ax=ax)\n",
    "plt.axhline(y=80, color='green')\n",
    "ax.set_title('', y=1.1)\n",
    "\n",
    "training[training.Embarked.isnull()][['Fare', 'Pclass', 'Embarked']]"
   ]
  },
  {
   "cell_type": "code",
   "execution_count": 5,
   "metadata": {
    "collapsed": true
   },
   "outputs": [],
   "source": [
    "_ = training.set_value(training.Embarked.isnull(), 'Embarked', 'C')"
   ]
  },
  {
   "cell_type": "code",
   "execution_count": 6,
   "metadata": {
    "collapsed": false,
    "scrolled": false
   },
   "outputs": [],
   "source": [
    "_ = testing.set_value(testing.Fare.isnull(), 'Fare', testing.Fare.median())"
   ]
  },
  {
   "cell_type": "code",
   "execution_count": 203,
   "metadata": {
    "collapsed": true
   },
   "outputs": [
    {
     "data": {
      "text/html": [
       "<div>\n",
       "<table border=\"1\" class=\"dataframe\">\n",
       "  <thead>\n",
       "    <tr style=\"text-align: right;\">\n",
       "      <th></th>\n",
       "      <th></th>\n",
       "      <th></th>\n",
       "      <th>PassengerId</th>\n",
       "      <th>Survived</th>\n",
       "      <th>Sex</th>\n",
       "      <th>Age</th>\n",
       "      <th>SibSp</th>\n",
       "      <th>Parch</th>\n",
       "      <th>Ticket</th>\n",
       "      <th>Embarked</th>\n",
       "      <th>New_cabin</th>\n",
       "    </tr>\n",
       "    <tr>\n",
       "      <th>Pclass</th>\n",
       "      <th>Fare</th>\n",
       "      <th>Cabin</th>\n",
       "      <th></th>\n",
       "      <th></th>\n",
       "      <th></th>\n",
       "      <th></th>\n",
       "      <th></th>\n",
       "      <th></th>\n",
       "      <th></th>\n",
       "      <th></th>\n",
       "      <th></th>\n",
       "    </tr>\n",
       "  </thead>\n",
       "  <tbody>\n",
       "    <tr>\n",
       "      <th rowspan=\"61\" valign=\"top\">1</th>\n",
       "      <th rowspan=\"3\" valign=\"top\">0.0000</th>\n",
       "      <th>A36</th>\n",
       "      <td>1</td>\n",
       "      <td>1</td>\n",
       "      <td>1</td>\n",
       "      <td>0</td>\n",
       "      <td>1</td>\n",
       "      <td>1</td>\n",
       "      <td>1</td>\n",
       "      <td>1</td>\n",
       "      <td>1</td>\n",
       "    </tr>\n",
       "    <tr>\n",
       "      <th>B102</th>\n",
       "      <td>1</td>\n",
       "      <td>1</td>\n",
       "      <td>1</td>\n",
       "      <td>0</td>\n",
       "      <td>1</td>\n",
       "      <td>1</td>\n",
       "      <td>1</td>\n",
       "      <td>1</td>\n",
       "      <td>1</td>\n",
       "    </tr>\n",
       "    <tr>\n",
       "      <th>B94</th>\n",
       "      <td>1</td>\n",
       "      <td>1</td>\n",
       "      <td>1</td>\n",
       "      <td>1</td>\n",
       "      <td>1</td>\n",
       "      <td>1</td>\n",
       "      <td>1</td>\n",
       "      <td>1</td>\n",
       "      <td>1</td>\n",
       "    </tr>\n",
       "    <tr>\n",
       "      <th>5.0000</th>\n",
       "      <th>B51 B53 B55</th>\n",
       "      <td>1</td>\n",
       "      <td>1</td>\n",
       "      <td>1</td>\n",
       "      <td>0</td>\n",
       "      <td>1</td>\n",
       "      <td>1</td>\n",
       "      <td>1</td>\n",
       "      <td>1</td>\n",
       "      <td>1</td>\n",
       "    </tr>\n",
       "    <tr>\n",
       "      <th>25.5875</th>\n",
       "      <th>E58</th>\n",
       "      <td>1</td>\n",
       "      <td>1</td>\n",
       "      <td>1</td>\n",
       "      <td>1</td>\n",
       "      <td>1</td>\n",
       "      <td>1</td>\n",
       "      <td>1</td>\n",
       "      <td>1</td>\n",
       "      <td>1</td>\n",
       "    </tr>\n",
       "    <tr>\n",
       "      <th>25.9292</th>\n",
       "      <th>D17</th>\n",
       "      <td>2</td>\n",
       "      <td>2</td>\n",
       "      <td>2</td>\n",
       "      <td>0</td>\n",
       "      <td>2</td>\n",
       "      <td>2</td>\n",
       "      <td>2</td>\n",
       "      <td>2</td>\n",
       "      <td>2</td>\n",
       "    </tr>\n",
       "    <tr>\n",
       "      <th>26.0000</th>\n",
       "      <th>A19</th>\n",
       "      <td>1</td>\n",
       "      <td>1</td>\n",
       "      <td>1</td>\n",
       "      <td>1</td>\n",
       "      <td>1</td>\n",
       "      <td>1</td>\n",
       "      <td>1</td>\n",
       "      <td>1</td>\n",
       "      <td>1</td>\n",
       "    </tr>\n",
       "    <tr>\n",
       "      <th>26.2833</th>\n",
       "      <th>D47</th>\n",
       "      <td>1</td>\n",
       "      <td>1</td>\n",
       "      <td>1</td>\n",
       "      <td>1</td>\n",
       "      <td>1</td>\n",
       "      <td>1</td>\n",
       "      <td>1</td>\n",
       "      <td>1</td>\n",
       "      <td>1</td>\n",
       "    </tr>\n",
       "    <tr>\n",
       "      <th rowspan=\"2\" valign=\"top\">26.2875</th>\n",
       "      <th>E24</th>\n",
       "      <td>2</td>\n",
       "      <td>2</td>\n",
       "      <td>2</td>\n",
       "      <td>2</td>\n",
       "      <td>2</td>\n",
       "      <td>2</td>\n",
       "      <td>2</td>\n",
       "      <td>2</td>\n",
       "      <td>2</td>\n",
       "    </tr>\n",
       "    <tr>\n",
       "      <th>E25</th>\n",
       "      <td>1</td>\n",
       "      <td>1</td>\n",
       "      <td>1</td>\n",
       "      <td>1</td>\n",
       "      <td>1</td>\n",
       "      <td>1</td>\n",
       "      <td>1</td>\n",
       "      <td>1</td>\n",
       "      <td>1</td>\n",
       "    </tr>\n",
       "    <tr>\n",
       "      <th>26.3875</th>\n",
       "      <th>E25</th>\n",
       "      <td>1</td>\n",
       "      <td>1</td>\n",
       "      <td>1</td>\n",
       "      <td>1</td>\n",
       "      <td>1</td>\n",
       "      <td>1</td>\n",
       "      <td>1</td>\n",
       "      <td>1</td>\n",
       "      <td>1</td>\n",
       "    </tr>\n",
       "    <tr>\n",
       "      <th rowspan=\"8\" valign=\"top\">26.5500</th>\n",
       "      <th>B38</th>\n",
       "      <td>1</td>\n",
       "      <td>1</td>\n",
       "      <td>1</td>\n",
       "      <td>1</td>\n",
       "      <td>1</td>\n",
       "      <td>1</td>\n",
       "      <td>1</td>\n",
       "      <td>1</td>\n",
       "      <td>1</td>\n",
       "    </tr>\n",
       "    <tr>\n",
       "      <th>C103</th>\n",
       "      <td>1</td>\n",
       "      <td>1</td>\n",
       "      <td>1</td>\n",
       "      <td>1</td>\n",
       "      <td>1</td>\n",
       "      <td>1</td>\n",
       "      <td>1</td>\n",
       "      <td>1</td>\n",
       "      <td>1</td>\n",
       "    </tr>\n",
       "    <tr>\n",
       "      <th>C124</th>\n",
       "      <td>1</td>\n",
       "      <td>1</td>\n",
       "      <td>1</td>\n",
       "      <td>1</td>\n",
       "      <td>1</td>\n",
       "      <td>1</td>\n",
       "      <td>1</td>\n",
       "      <td>1</td>\n",
       "      <td>1</td>\n",
       "    </tr>\n",
       "    <tr>\n",
       "      <th>C52</th>\n",
       "      <td>1</td>\n",
       "      <td>1</td>\n",
       "      <td>1</td>\n",
       "      <td>1</td>\n",
       "      <td>1</td>\n",
       "      <td>1</td>\n",
       "      <td>1</td>\n",
       "      <td>1</td>\n",
       "      <td>1</td>\n",
       "    </tr>\n",
       "    <tr>\n",
       "      <th>C87</th>\n",
       "      <td>1</td>\n",
       "      <td>1</td>\n",
       "      <td>1</td>\n",
       "      <td>1</td>\n",
       "      <td>1</td>\n",
       "      <td>1</td>\n",
       "      <td>1</td>\n",
       "      <td>1</td>\n",
       "      <td>1</td>\n",
       "    </tr>\n",
       "    <tr>\n",
       "      <th>E12</th>\n",
       "      <td>1</td>\n",
       "      <td>1</td>\n",
       "      <td>1</td>\n",
       "      <td>1</td>\n",
       "      <td>1</td>\n",
       "      <td>1</td>\n",
       "      <td>1</td>\n",
       "      <td>1</td>\n",
       "      <td>1</td>\n",
       "    </tr>\n",
       "    <tr>\n",
       "      <th>E17</th>\n",
       "      <td>1</td>\n",
       "      <td>1</td>\n",
       "      <td>1</td>\n",
       "      <td>0</td>\n",
       "      <td>1</td>\n",
       "      <td>1</td>\n",
       "      <td>1</td>\n",
       "      <td>1</td>\n",
       "      <td>1</td>\n",
       "    </tr>\n",
       "    <tr>\n",
       "      <th>E38</th>\n",
       "      <td>1</td>\n",
       "      <td>1</td>\n",
       "      <td>1</td>\n",
       "      <td>1</td>\n",
       "      <td>1</td>\n",
       "      <td>1</td>\n",
       "      <td>1</td>\n",
       "      <td>1</td>\n",
       "      <td>1</td>\n",
       "    </tr>\n",
       "    <tr>\n",
       "      <th>27.7208</th>\n",
       "      <th>B4</th>\n",
       "      <td>1</td>\n",
       "      <td>1</td>\n",
       "      <td>1</td>\n",
       "      <td>1</td>\n",
       "      <td>1</td>\n",
       "      <td>1</td>\n",
       "      <td>1</td>\n",
       "      <td>1</td>\n",
       "      <td>1</td>\n",
       "    </tr>\n",
       "    <tr>\n",
       "      <th>27.7500</th>\n",
       "      <th>C111</th>\n",
       "      <td>1</td>\n",
       "      <td>1</td>\n",
       "      <td>1</td>\n",
       "      <td>1</td>\n",
       "      <td>1</td>\n",
       "      <td>1</td>\n",
       "      <td>1</td>\n",
       "      <td>1</td>\n",
       "      <td>1</td>\n",
       "    </tr>\n",
       "    <tr>\n",
       "      <th>28.5000</th>\n",
       "      <th>C124</th>\n",
       "      <td>1</td>\n",
       "      <td>1</td>\n",
       "      <td>1</td>\n",
       "      <td>1</td>\n",
       "      <td>1</td>\n",
       "      <td>1</td>\n",
       "      <td>1</td>\n",
       "      <td>1</td>\n",
       "      <td>1</td>\n",
       "    </tr>\n",
       "    <tr>\n",
       "      <th>28.7125</th>\n",
       "      <th>C49</th>\n",
       "      <td>1</td>\n",
       "      <td>1</td>\n",
       "      <td>1</td>\n",
       "      <td>1</td>\n",
       "      <td>1</td>\n",
       "      <td>1</td>\n",
       "      <td>1</td>\n",
       "      <td>1</td>\n",
       "      <td>1</td>\n",
       "    </tr>\n",
       "    <tr>\n",
       "      <th rowspan=\"3\" valign=\"top\">29.7000</th>\n",
       "      <th>B37</th>\n",
       "      <td>1</td>\n",
       "      <td>1</td>\n",
       "      <td>1</td>\n",
       "      <td>1</td>\n",
       "      <td>1</td>\n",
       "      <td>1</td>\n",
       "      <td>1</td>\n",
       "      <td>1</td>\n",
       "      <td>1</td>\n",
       "    </tr>\n",
       "    <tr>\n",
       "      <th>C118</th>\n",
       "      <td>1</td>\n",
       "      <td>1</td>\n",
       "      <td>1</td>\n",
       "      <td>1</td>\n",
       "      <td>1</td>\n",
       "      <td>1</td>\n",
       "      <td>1</td>\n",
       "      <td>1</td>\n",
       "      <td>1</td>\n",
       "    </tr>\n",
       "    <tr>\n",
       "      <th>C47</th>\n",
       "      <td>1</td>\n",
       "      <td>1</td>\n",
       "      <td>1</td>\n",
       "      <td>0</td>\n",
       "      <td>1</td>\n",
       "      <td>1</td>\n",
       "      <td>1</td>\n",
       "      <td>1</td>\n",
       "      <td>1</td>\n",
       "    </tr>\n",
       "    <tr>\n",
       "      <th rowspan=\"4\" valign=\"top\">30.0000</th>\n",
       "      <th>A23</th>\n",
       "      <td>1</td>\n",
       "      <td>1</td>\n",
       "      <td>1</td>\n",
       "      <td>1</td>\n",
       "      <td>1</td>\n",
       "      <td>1</td>\n",
       "      <td>1</td>\n",
       "      <td>1</td>\n",
       "      <td>1</td>\n",
       "    </tr>\n",
       "    <tr>\n",
       "      <th>B42</th>\n",
       "      <td>1</td>\n",
       "      <td>1</td>\n",
       "      <td>1</td>\n",
       "      <td>0</td>\n",
       "      <td>1</td>\n",
       "      <td>1</td>\n",
       "      <td>1</td>\n",
       "      <td>1</td>\n",
       "      <td>1</td>\n",
       "    </tr>\n",
       "    <tr>\n",
       "      <th>C148</th>\n",
       "      <td>1</td>\n",
       "      <td>1</td>\n",
       "      <td>1</td>\n",
       "      <td>0</td>\n",
       "      <td>1</td>\n",
       "      <td>1</td>\n",
       "      <td>1</td>\n",
       "      <td>1</td>\n",
       "      <td>1</td>\n",
       "    </tr>\n",
       "    <tr>\n",
       "      <th>D45</th>\n",
       "      <td>1</td>\n",
       "      <td>1</td>\n",
       "      <td>1</td>\n",
       "      <td>0</td>\n",
       "      <td>1</td>\n",
       "      <td>1</td>\n",
       "      <td>1</td>\n",
       "      <td>1</td>\n",
       "      <td>1</td>\n",
       "    </tr>\n",
       "    <tr>\n",
       "      <th>30.0000</th>\n",
       "      <th>...</th>\n",
       "      <td>...</td>\n",
       "      <td>...</td>\n",
       "      <td>...</td>\n",
       "      <td>...</td>\n",
       "      <td>...</td>\n",
       "      <td>...</td>\n",
       "      <td>...</td>\n",
       "      <td>...</td>\n",
       "      <td>...</td>\n",
       "    </tr>\n",
       "    <tr>\n",
       "      <th rowspan=\"2\" valign=\"top\">93.5000</th>\n",
       "      <th>B69</th>\n",
       "      <td>1</td>\n",
       "      <td>1</td>\n",
       "      <td>1</td>\n",
       "      <td>0</td>\n",
       "      <td>1</td>\n",
       "      <td>1</td>\n",
       "      <td>1</td>\n",
       "      <td>1</td>\n",
       "      <td>1</td>\n",
       "    </tr>\n",
       "    <tr>\n",
       "      <th>B73</th>\n",
       "      <td>1</td>\n",
       "      <td>1</td>\n",
       "      <td>1</td>\n",
       "      <td>1</td>\n",
       "      <td>1</td>\n",
       "      <td>1</td>\n",
       "      <td>1</td>\n",
       "      <td>1</td>\n",
       "      <td>1</td>\n",
       "    </tr>\n",
       "    <tr>\n",
       "      <th>106.4250</th>\n",
       "      <th>C86</th>\n",
       "      <td>1</td>\n",
       "      <td>1</td>\n",
       "      <td>1</td>\n",
       "      <td>1</td>\n",
       "      <td>1</td>\n",
       "      <td>1</td>\n",
       "      <td>1</td>\n",
       "      <td>1</td>\n",
       "      <td>1</td>\n",
       "    </tr>\n",
       "    <tr>\n",
       "      <th>108.9000</th>\n",
       "      <th>C65</th>\n",
       "      <td>2</td>\n",
       "      <td>2</td>\n",
       "      <td>2</td>\n",
       "      <td>2</td>\n",
       "      <td>2</td>\n",
       "      <td>2</td>\n",
       "      <td>2</td>\n",
       "      <td>2</td>\n",
       "      <td>2</td>\n",
       "    </tr>\n",
       "    <tr>\n",
       "      <th rowspan=\"2\" valign=\"top\">110.8833</th>\n",
       "      <th>C68</th>\n",
       "      <td>2</td>\n",
       "      <td>2</td>\n",
       "      <td>2</td>\n",
       "      <td>2</td>\n",
       "      <td>2</td>\n",
       "      <td>2</td>\n",
       "      <td>2</td>\n",
       "      <td>2</td>\n",
       "      <td>2</td>\n",
       "    </tr>\n",
       "    <tr>\n",
       "      <th>C70</th>\n",
       "      <td>1</td>\n",
       "      <td>1</td>\n",
       "      <td>1</td>\n",
       "      <td>1</td>\n",
       "      <td>1</td>\n",
       "      <td>1</td>\n",
       "      <td>1</td>\n",
       "      <td>1</td>\n",
       "      <td>1</td>\n",
       "    </tr>\n",
       "    <tr>\n",
       "      <th rowspan=\"2\" valign=\"top\">113.2750</th>\n",
       "      <th>D36</th>\n",
       "      <td>2</td>\n",
       "      <td>2</td>\n",
       "      <td>2</td>\n",
       "      <td>2</td>\n",
       "      <td>2</td>\n",
       "      <td>2</td>\n",
       "      <td>2</td>\n",
       "      <td>2</td>\n",
       "      <td>2</td>\n",
       "    </tr>\n",
       "    <tr>\n",
       "      <th>D48</th>\n",
       "      <td>1</td>\n",
       "      <td>1</td>\n",
       "      <td>1</td>\n",
       "      <td>1</td>\n",
       "      <td>1</td>\n",
       "      <td>1</td>\n",
       "      <td>1</td>\n",
       "      <td>1</td>\n",
       "      <td>1</td>\n",
       "    </tr>\n",
       "    <tr>\n",
       "      <th>120.0000</th>\n",
       "      <th>B96 B98</th>\n",
       "      <td>4</td>\n",
       "      <td>4</td>\n",
       "      <td>4</td>\n",
       "      <td>2</td>\n",
       "      <td>4</td>\n",
       "      <td>4</td>\n",
       "      <td>4</td>\n",
       "      <td>4</td>\n",
       "      <td>4</td>\n",
       "    </tr>\n",
       "    <tr>\n",
       "      <th rowspan=\"2\" valign=\"top\">134.5000</th>\n",
       "      <th>E34</th>\n",
       "      <td>1</td>\n",
       "      <td>1</td>\n",
       "      <td>1</td>\n",
       "      <td>1</td>\n",
       "      <td>1</td>\n",
       "      <td>1</td>\n",
       "      <td>1</td>\n",
       "      <td>1</td>\n",
       "      <td>1</td>\n",
       "    </tr>\n",
       "    <tr>\n",
       "      <th>E40</th>\n",
       "      <td>1</td>\n",
       "      <td>1</td>\n",
       "      <td>1</td>\n",
       "      <td>1</td>\n",
       "      <td>1</td>\n",
       "      <td>1</td>\n",
       "      <td>1</td>\n",
       "      <td>1</td>\n",
       "      <td>1</td>\n",
       "    </tr>\n",
       "    <tr>\n",
       "      <th rowspan=\"2\" valign=\"top\">135.6333</th>\n",
       "      <th>C32</th>\n",
       "      <td>1</td>\n",
       "      <td>1</td>\n",
       "      <td>1</td>\n",
       "      <td>1</td>\n",
       "      <td>1</td>\n",
       "      <td>1</td>\n",
       "      <td>1</td>\n",
       "      <td>1</td>\n",
       "      <td>1</td>\n",
       "    </tr>\n",
       "    <tr>\n",
       "      <th>C99</th>\n",
       "      <td>1</td>\n",
       "      <td>1</td>\n",
       "      <td>1</td>\n",
       "      <td>1</td>\n",
       "      <td>1</td>\n",
       "      <td>1</td>\n",
       "      <td>1</td>\n",
       "      <td>1</td>\n",
       "      <td>1</td>\n",
       "    </tr>\n",
       "    <tr>\n",
       "      <th rowspan=\"2\" valign=\"top\">146.5208</th>\n",
       "      <th>B78</th>\n",
       "      <td>1</td>\n",
       "      <td>1</td>\n",
       "      <td>1</td>\n",
       "      <td>1</td>\n",
       "      <td>1</td>\n",
       "      <td>1</td>\n",
       "      <td>1</td>\n",
       "      <td>1</td>\n",
       "      <td>1</td>\n",
       "    </tr>\n",
       "    <tr>\n",
       "      <th>B80</th>\n",
       "      <td>1</td>\n",
       "      <td>1</td>\n",
       "      <td>1</td>\n",
       "      <td>1</td>\n",
       "      <td>1</td>\n",
       "      <td>1</td>\n",
       "      <td>1</td>\n",
       "      <td>1</td>\n",
       "      <td>1</td>\n",
       "    </tr>\n",
       "    <tr>\n",
       "      <th>151.5500</th>\n",
       "      <th>C22 C26</th>\n",
       "      <td>3</td>\n",
       "      <td>3</td>\n",
       "      <td>3</td>\n",
       "      <td>3</td>\n",
       "      <td>3</td>\n",
       "      <td>3</td>\n",
       "      <td>3</td>\n",
       "      <td>3</td>\n",
       "      <td>3</td>\n",
       "    </tr>\n",
       "    <tr>\n",
       "      <th rowspan=\"2\" valign=\"top\">153.4625</th>\n",
       "      <th>C125</th>\n",
       "      <td>2</td>\n",
       "      <td>2</td>\n",
       "      <td>2</td>\n",
       "      <td>2</td>\n",
       "      <td>2</td>\n",
       "      <td>2</td>\n",
       "      <td>2</td>\n",
       "      <td>2</td>\n",
       "      <td>2</td>\n",
       "    </tr>\n",
       "    <tr>\n",
       "      <th>C91</th>\n",
       "      <td>1</td>\n",
       "      <td>1</td>\n",
       "      <td>1</td>\n",
       "      <td>1</td>\n",
       "      <td>1</td>\n",
       "      <td>1</td>\n",
       "      <td>1</td>\n",
       "      <td>1</td>\n",
       "      <td>1</td>\n",
       "    </tr>\n",
       "    <tr>\n",
       "      <th>164.8667</th>\n",
       "      <th>C7</th>\n",
       "      <td>1</td>\n",
       "      <td>1</td>\n",
       "      <td>1</td>\n",
       "      <td>1</td>\n",
       "      <td>1</td>\n",
       "      <td>1</td>\n",
       "      <td>1</td>\n",
       "      <td>1</td>\n",
       "      <td>1</td>\n",
       "    </tr>\n",
       "    <tr>\n",
       "      <th rowspan=\"2\" valign=\"top\">211.3375</th>\n",
       "      <th>B3</th>\n",
       "      <td>1</td>\n",
       "      <td>1</td>\n",
       "      <td>1</td>\n",
       "      <td>0</td>\n",
       "      <td>1</td>\n",
       "      <td>1</td>\n",
       "      <td>1</td>\n",
       "      <td>1</td>\n",
       "      <td>1</td>\n",
       "    </tr>\n",
       "    <tr>\n",
       "      <th>B5</th>\n",
       "      <td>2</td>\n",
       "      <td>2</td>\n",
       "      <td>2</td>\n",
       "      <td>1</td>\n",
       "      <td>2</td>\n",
       "      <td>2</td>\n",
       "      <td>2</td>\n",
       "      <td>2</td>\n",
       "      <td>2</td>\n",
       "    </tr>\n",
       "    <tr>\n",
       "      <th>211.5000</th>\n",
       "      <th>C82</th>\n",
       "      <td>1</td>\n",
       "      <td>1</td>\n",
       "      <td>1</td>\n",
       "      <td>1</td>\n",
       "      <td>1</td>\n",
       "      <td>1</td>\n",
       "      <td>1</td>\n",
       "      <td>1</td>\n",
       "      <td>1</td>\n",
       "    </tr>\n",
       "    <tr>\n",
       "      <th>221.7792</th>\n",
       "      <th>C95</th>\n",
       "      <td>1</td>\n",
       "      <td>1</td>\n",
       "      <td>1</td>\n",
       "      <td>1</td>\n",
       "      <td>1</td>\n",
       "      <td>1</td>\n",
       "      <td>1</td>\n",
       "      <td>1</td>\n",
       "      <td>1</td>\n",
       "    </tr>\n",
       "    <tr>\n",
       "      <th rowspan=\"2\" valign=\"top\">227.5250</th>\n",
       "      <th>C45</th>\n",
       "      <td>1</td>\n",
       "      <td>1</td>\n",
       "      <td>1</td>\n",
       "      <td>0</td>\n",
       "      <td>1</td>\n",
       "      <td>1</td>\n",
       "      <td>1</td>\n",
       "      <td>1</td>\n",
       "      <td>1</td>\n",
       "    </tr>\n",
       "    <tr>\n",
       "      <th>C62 C64</th>\n",
       "      <td>1</td>\n",
       "      <td>1</td>\n",
       "      <td>1</td>\n",
       "      <td>1</td>\n",
       "      <td>1</td>\n",
       "      <td>1</td>\n",
       "      <td>1</td>\n",
       "      <td>1</td>\n",
       "      <td>1</td>\n",
       "    </tr>\n",
       "    <tr>\n",
       "      <th>247.5208</th>\n",
       "      <th>B58 B60</th>\n",
       "      <td>2</td>\n",
       "      <td>2</td>\n",
       "      <td>2</td>\n",
       "      <td>2</td>\n",
       "      <td>2</td>\n",
       "      <td>2</td>\n",
       "      <td>2</td>\n",
       "      <td>2</td>\n",
       "      <td>2</td>\n",
       "    </tr>\n",
       "    <tr>\n",
       "      <th>262.3750</th>\n",
       "      <th>B57 B59 B63 B66</th>\n",
       "      <td>2</td>\n",
       "      <td>2</td>\n",
       "      <td>2</td>\n",
       "      <td>1</td>\n",
       "      <td>2</td>\n",
       "      <td>2</td>\n",
       "      <td>2</td>\n",
       "      <td>2</td>\n",
       "      <td>2</td>\n",
       "    </tr>\n",
       "    <tr>\n",
       "      <th>263.0000</th>\n",
       "      <th>C23 C25 C27</th>\n",
       "      <td>4</td>\n",
       "      <td>4</td>\n",
       "      <td>4</td>\n",
       "      <td>4</td>\n",
       "      <td>4</td>\n",
       "      <td>4</td>\n",
       "      <td>4</td>\n",
       "      <td>4</td>\n",
       "      <td>4</td>\n",
       "    </tr>\n",
       "    <tr>\n",
       "      <th rowspan=\"2\" valign=\"top\">512.3292</th>\n",
       "      <th>B101</th>\n",
       "      <td>1</td>\n",
       "      <td>1</td>\n",
       "      <td>1</td>\n",
       "      <td>0</td>\n",
       "      <td>1</td>\n",
       "      <td>1</td>\n",
       "      <td>1</td>\n",
       "      <td>1</td>\n",
       "      <td>1</td>\n",
       "    </tr>\n",
       "    <tr>\n",
       "      <th>B51 B53 B55</th>\n",
       "      <td>1</td>\n",
       "      <td>1</td>\n",
       "      <td>1</td>\n",
       "      <td>1</td>\n",
       "      <td>1</td>\n",
       "      <td>1</td>\n",
       "      <td>1</td>\n",
       "      <td>1</td>\n",
       "      <td>1</td>\n",
       "    </tr>\n",
       "  </tbody>\n",
       "</table>\n",
       "<p>137 rows × 9 columns</p>\n",
       "</div>"
      ],
      "text/plain": [
       "                                 PassengerId  Survived  Sex  Age  SibSp  \\\n",
       "Pclass Fare     Cabin                                                     \n",
       "1      0.0000   A36                        1         1    1    0      1   \n",
       "                B102                       1         1    1    0      1   \n",
       "                B94                        1         1    1    1      1   \n",
       "       5.0000   B51 B53 B55                1         1    1    0      1   \n",
       "       25.5875  E58                        1         1    1    1      1   \n",
       "       25.9292  D17                        2         2    2    0      2   \n",
       "       26.0000  A19                        1         1    1    1      1   \n",
       "       26.2833  D47                        1         1    1    1      1   \n",
       "       26.2875  E24                        2         2    2    2      2   \n",
       "                E25                        1         1    1    1      1   \n",
       "       26.3875  E25                        1         1    1    1      1   \n",
       "       26.5500  B38                        1         1    1    1      1   \n",
       "                C103                       1         1    1    1      1   \n",
       "                C124                       1         1    1    1      1   \n",
       "                C52                        1         1    1    1      1   \n",
       "                C87                        1         1    1    1      1   \n",
       "                E12                        1         1    1    1      1   \n",
       "                E17                        1         1    1    0      1   \n",
       "                E38                        1         1    1    1      1   \n",
       "       27.7208  B4                         1         1    1    1      1   \n",
       "       27.7500  C111                       1         1    1    1      1   \n",
       "       28.5000  C124                       1         1    1    1      1   \n",
       "       28.7125  C49                        1         1    1    1      1   \n",
       "       29.7000  B37                        1         1    1    1      1   \n",
       "                C118                       1         1    1    1      1   \n",
       "                C47                        1         1    1    0      1   \n",
       "       30.0000  A23                        1         1    1    1      1   \n",
       "                B42                        1         1    1    0      1   \n",
       "                C148                       1         1    1    0      1   \n",
       "                D45                        1         1    1    0      1   \n",
       "...                                      ...       ...  ...  ...    ...   \n",
       "       93.5000  B69                        1         1    1    0      1   \n",
       "                B73                        1         1    1    1      1   \n",
       "       106.4250 C86                        1         1    1    1      1   \n",
       "       108.9000 C65                        2         2    2    2      2   \n",
       "       110.8833 C68                        2         2    2    2      2   \n",
       "                C70                        1         1    1    1      1   \n",
       "       113.2750 D36                        2         2    2    2      2   \n",
       "                D48                        1         1    1    1      1   \n",
       "       120.0000 B96 B98                    4         4    4    2      4   \n",
       "       134.5000 E34                        1         1    1    1      1   \n",
       "                E40                        1         1    1    1      1   \n",
       "       135.6333 C32                        1         1    1    1      1   \n",
       "                C99                        1         1    1    1      1   \n",
       "       146.5208 B78                        1         1    1    1      1   \n",
       "                B80                        1         1    1    1      1   \n",
       "       151.5500 C22 C26                    3         3    3    3      3   \n",
       "       153.4625 C125                       2         2    2    2      2   \n",
       "                C91                        1         1    1    1      1   \n",
       "       164.8667 C7                         1         1    1    1      1   \n",
       "       211.3375 B3                         1         1    1    0      1   \n",
       "                B5                         2         2    2    1      2   \n",
       "       211.5000 C82                        1         1    1    1      1   \n",
       "       221.7792 C95                        1         1    1    1      1   \n",
       "       227.5250 C45                        1         1    1    0      1   \n",
       "                C62 C64                    1         1    1    1      1   \n",
       "       247.5208 B58 B60                    2         2    2    2      2   \n",
       "       262.3750 B57 B59 B63 B66            2         2    2    1      2   \n",
       "       263.0000 C23 C25 C27                4         4    4    4      4   \n",
       "       512.3292 B101                       1         1    1    0      1   \n",
       "                B51 B53 B55                1         1    1    1      1   \n",
       "\n",
       "                                 Parch  Ticket  Embarked  New_cabin  \n",
       "Pclass Fare     Cabin                                                \n",
       "1      0.0000   A36                  1       1         1          1  \n",
       "                B102                 1       1         1          1  \n",
       "                B94                  1       1         1          1  \n",
       "       5.0000   B51 B53 B55          1       1         1          1  \n",
       "       25.5875  E58                  1       1         1          1  \n",
       "       25.9292  D17                  2       2         2          2  \n",
       "       26.0000  A19                  1       1         1          1  \n",
       "       26.2833  D47                  1       1         1          1  \n",
       "       26.2875  E24                  2       2         2          2  \n",
       "                E25                  1       1         1          1  \n",
       "       26.3875  E25                  1       1         1          1  \n",
       "       26.5500  B38                  1       1         1          1  \n",
       "                C103                 1       1         1          1  \n",
       "                C124                 1       1         1          1  \n",
       "                C52                  1       1         1          1  \n",
       "                C87                  1       1         1          1  \n",
       "                E12                  1       1         1          1  \n",
       "                E17                  1       1         1          1  \n",
       "                E38                  1       1         1          1  \n",
       "       27.7208  B4                   1       1         1          1  \n",
       "       27.7500  C111                 1       1         1          1  \n",
       "       28.5000  C124                 1       1         1          1  \n",
       "       28.7125  C49                  1       1         1          1  \n",
       "       29.7000  B37                  1       1         1          1  \n",
       "                C118                 1       1         1          1  \n",
       "                C47                  1       1         1          1  \n",
       "       30.0000  A23                  1       1         1          1  \n",
       "                B42                  1       1         1          1  \n",
       "                C148                 1       1         1          1  \n",
       "                D45                  1       1         1          1  \n",
       "...                                ...     ...       ...        ...  \n",
       "       93.5000  B69                  1       1         1          1  \n",
       "                B73                  1       1         1          1  \n",
       "       106.4250 C86                  1       1         1          1  \n",
       "       108.9000 C65                  2       2         2          2  \n",
       "       110.8833 C68                  2       2         2          2  \n",
       "                C70                  1       1         1          1  \n",
       "       113.2750 D36                  2       2         2          2  \n",
       "                D48                  1       1         1          1  \n",
       "       120.0000 B96 B98              4       4         4          4  \n",
       "       134.5000 E34                  1       1         1          1  \n",
       "                E40                  1       1         1          1  \n",
       "       135.6333 C32                  1       1         1          1  \n",
       "                C99                  1       1         1          1  \n",
       "       146.5208 B78                  1       1         1          1  \n",
       "                B80                  1       1         1          1  \n",
       "       151.5500 C22 C26              3       3         3          3  \n",
       "       153.4625 C125                 2       2         2          2  \n",
       "                C91                  1       1         1          1  \n",
       "       164.8667 C7                   1       1         1          1  \n",
       "       211.3375 B3                   1       1         1          1  \n",
       "                B5                   2       2         2          2  \n",
       "       211.5000 C82                  1       1         1          1  \n",
       "       221.7792 C95                  1       1         1          1  \n",
       "       227.5250 C45                  1       1         1          1  \n",
       "                C62 C64              1       1         1          1  \n",
       "       247.5208 B58 B60              2       2         2          2  \n",
       "       262.3750 B57 B59 B63 B66      2       2         2          2  \n",
       "       263.0000 C23 C25 C27          4       4         4          4  \n",
       "       512.3292 B101                 1       1         1          1  \n",
       "                B51 B53 B55          1       1         1          1  \n",
       "\n",
       "[137 rows x 9 columns]"
      ]
     },
     "execution_count": 203,
     "metadata": {},
     "output_type": "execute_result"
    }
   ],
   "source": [
    "#About Cabin, method1 treat NaN as a new category, method2, classify based on pclass& Fare\n",
    "'''full = pd.concat([train, test], ignore_index=True)\n",
    "_ = full.set_value(full.Cabin.isnull(), 'Cabin', 'U0')'''\n",
    "\n",
    "\n",
    "'''training[training.Pclass == 1].groupby(['Pclass', 'Fare', 'Cabin']).count()\n",
    "training['New_cabin'] = ''\n",
    "training.set_value(training[training.Pclass==3].index, 'New_cabin', \"EFG\" )\n",
    "training.set_value(training[training.Pclass==2].index, 'New_cabin', \"DEF\" )'''"
   ]
  },
  {
   "cell_type": "code",
   "execution_count": 7,
   "metadata": {
    "collapsed": true
   },
   "outputs": [],
   "source": [
    "# Family\n",
    "training['Family'] =  training[\"Parch\"] + training[\"SibSp\"]\n",
    "training.groupby('Family').count()\n",
    "testing['Family'] =  testing[\"Parch\"] + testing[\"SibSp\"]"
   ]
  },
  {
   "cell_type": "code",
   "execution_count": 8,
   "metadata": {
    "collapsed": true
   },
   "outputs": [],
   "source": [
    "training = training.drop(['SibSp','Parch'], axis=1)\n",
    "testing  = testing.drop(['SibSp','Parch'], axis=1)"
   ]
  },
  {
   "cell_type": "code",
   "execution_count": 213,
   "metadata": {
    "collapsed": false,
    "scrolled": true
   },
   "outputs": [
    {
     "data": {
      "text/plain": [
       "{0, 1, 2, 3, 4, 5, 6, 7, 10}"
      ]
     },
     "execution_count": 213,
     "metadata": {},
     "output_type": "execute_result"
    }
   ],
   "source": [
    "set(training.Family)"
   ]
  },
  {
   "cell_type": "code",
   "execution_count": 9,
   "metadata": {
    "collapsed": false
   },
   "outputs": [
    {
     "data": {
      "text/plain": [
       "[<matplotlib.text.Text at 0x11c960710>,\n",
       " <matplotlib.text.Text at 0x11c955ad0>,\n",
       " <matplotlib.text.Text at 0x11c969510>,\n",
       " <matplotlib.text.Text at 0x11c955dd0>,\n",
       " <matplotlib.text.Text at 0x11c1c7510>,\n",
       " <matplotlib.text.Text at 0x11c6852d0>,\n",
       " <matplotlib.text.Text at 0x1194cded0>,\n",
       " <matplotlib.text.Text at 0x11c63c090>,\n",
       " <matplotlib.text.Text at 0x11c63c810>]"
      ]
     },
     "execution_count": 9,
     "metadata": {},
     "output_type": "execute_result"
    },
    {
     "data": {
      "image/png": "[encoded data removed]",
      "text/plain": [
       "<matplotlib.figure.Figure at 0x11c61fc50>"
      ]
     },
     "metadata": {},
     "output_type": "display_data"
    }
   ],
   "source": [
    "# plot\n",
    "fig, (axis1,axis2) = plt.subplots(1,2,sharex=True,figsize=(10,5))\n",
    "\n",
    "# sns.factorplot('Family',data=titanic_df,kind='count',ax=axis1)\n",
    "sns.countplot(x='Family', data=training, order=[0, 1, 2, 3, 4, 5, 6, 7, 10], ax=axis1)\n",
    "\n",
    "# average of survived for those who had/didn't have any family member\n",
    "family_perc = training[[\"Family\", \"Survived\"]].groupby(['Family'],as_index=False).mean()\n",
    "sns.barplot(x='Family', y='Survived', data=family_perc, order=[0, 1, 2, 3, 4, 5, 6, 7, 10], ax=axis2)\n",
    "\n",
    "axis1.set_xticklabels([0, 1, 2, 3, 4, 5, 6, 7, 10], rotation=0)"
   ]
  },
  {
   "cell_type": "code",
   "execution_count": 10,
   "metadata": {
    "collapsed": true
   },
   "outputs": [],
   "source": [
    "full = pd.concat([training, testing], ignore_index=True)"
   ]
  },
  {
   "cell_type": "code",
   "execution_count": 11,
   "metadata": {
    "collapsed": true
   },
   "outputs": [],
   "source": [
    "#Names\n",
    "import re\n",
    "names = full.Name.map(lambda x: len(re.split(' ', x)))\n",
    "_ = full.set_value(full.index, 'Names', names)\n",
    "del names"
   ]
  },
  {
   "cell_type": "code",
   "execution_count": 12,
   "metadata": {
    "collapsed": false,
    "scrolled": true
   },
   "outputs": [],
   "source": [
    "title = full.Name.map(lambda x: re.compile(', (.*?)\\.').findall(x)[0])"
   ]
  },
  {
   "cell_type": "code",
   "execution_count": 13,
   "metadata": {
    "collapsed": true
   },
   "outputs": [],
   "source": [
    "#title\n",
    "title[title=='Mme'] = 'Mrs'\n",
    "title[title.isin(['Ms','Mlle'])] = 'Miss'\n",
    "title[title.isin(['Don', 'Jonkheer'])] = 'Sir'\n",
    "title[title.isin(['Dona', 'Lady', 'the Countess'])] = 'Lady'\n",
    "title[title.isin(['Capt', 'Col', 'Major', 'Dr', 'Officer', 'Rev'])] = 'Officer'\n",
    "_ = full.set_value(full.index, 'Title', title)\n",
    "del title"
   ]
  },
  {
   "cell_type": "code",
   "execution_count": 14,
   "metadata": {
    "collapsed": false
   },
   "outputs": [],
   "source": [
    "#Deck\n",
    "_ = full.set_value(full.Cabin.isnull(), 'Cabin', 'U0')\n",
    "deck = full[~full.Cabin.isnull()].Cabin.map( lambda x : re.compile(\"([a-zA-Z]+)\").search(x).group())\n",
    "deck = pd.factorize(deck)[0]\n",
    "_ = full.set_value(full.index, 'Deck', deck)\n",
    "del deck"
   ]
  },
  {
   "cell_type": "code",
   "execution_count": 15,
   "metadata": {
    "collapsed": false,
    "scrolled": false
   },
   "outputs": [],
   "source": [
    "#group_size\n",
    "full['Group_size'] = pd.Series('M', index=full.index)\n",
    "_ = full.set_value(full.Family>3, 'Group_size', 'L')\n",
    "_ = full.set_value(full.Family==0, 'Group_size', 'S')"
   ]
  },
  {
   "cell_type": "code",
   "execution_count": 16,
   "metadata": {
    "collapsed": false
   },
   "outputs": [],
   "source": [
    "# normalize fare\n",
    "from sklearn.preprocessing import StandardScaler\n",
    "scaler = StandardScaler()\n",
    "full['NorFare'] = pd.Series(scaler.fit_transform(full.Fare.reshape(-1,1)).reshape(-1), index=full.index)"
   ]
  },
  {
   "cell_type": "code",
   "execution_count": 17,
   "metadata": {
    "collapsed": false,
    "scrolled": true
   },
   "outputs": [],
   "source": [
    "# change value in training & testing\n",
    "def setValue(col):\n",
    "    _ = training.set_value(training.index, col, full[:891][col].values)\n",
    "    _ = testing.set_value(testing.index, col, full[891:][col].values)\n",
    "\n",
    "for col in ['Deck', 'Group_size', 'NorFare', 'Names', 'Title']:\n",
    "    setValue(col)"
   ]
  },
  {
   "cell_type": "markdown",
   "metadata": {},
   "source": [
    "predict Age"
   ]
  },
  {
   "cell_type": "code",
   "execution_count": 18,
   "metadata": {
    "collapsed": true
   },
   "outputs": [],
   "source": [
    "full.drop(labels=['PassengerId', 'Name', 'Cabin', 'Survived', 'Ticket', 'Fare'], axis=1, inplace=True)\n",
    "full = pd.get_dummies(full, columns=['Embarked', 'Sex', 'Title', 'Group_size'])"
   ]
  },
  {
   "cell_type": "code",
   "execution_count": 37,
   "metadata": {
    "collapsed": false
   },
   "outputs": [
    {
     "data": {
      "text/html": [
       "<div>\n",
       "<table border=\"1\" class=\"dataframe\">\n",
       "  <thead>\n",
       "    <tr style=\"text-align: right;\">\n",
       "      <th></th>\n",
       "      <th>Age</th>\n",
       "      <th>Cabin</th>\n",
       "      <th>Embarked</th>\n",
       "      <th>Family</th>\n",
       "      <th>Fare</th>\n",
       "      <th>Name</th>\n",
       "      <th>Parch</th>\n",
       "      <th>PassengerId</th>\n",
       "      <th>Pclass</th>\n",
       "      <th>Sex</th>\n",
       "      <th>SibSp</th>\n",
       "      <th>Survived</th>\n",
       "      <th>Ticket</th>\n",
       "      <th>Names</th>\n",
       "      <th>Title</th>\n",
       "      <th>Deck</th>\n",
       "      <th>Group_size</th>\n",
       "      <th>NorFare</th>\n",
       "    </tr>\n",
       "  </thead>\n",
       "  <tbody>\n",
       "    <tr>\n",
       "      <th>0</th>\n",
       "      <td>22</td>\n",
       "      <td>U0</td>\n",
       "      <td>S</td>\n",
       "      <td>1</td>\n",
       "      <td>7.2500</td>\n",
       "      <td>Braund, Mr. Owen Harris</td>\n",
       "      <td>0</td>\n",
       "      <td>1</td>\n",
       "      <td>3</td>\n",
       "      <td>male</td>\n",
       "      <td>1</td>\n",
       "      <td>0</td>\n",
       "      <td>A/5 21171</td>\n",
       "      <td>4</td>\n",
       "      <td>Mr</td>\n",
       "      <td>0</td>\n",
       "      <td>M</td>\n",
       "      <td>-0.503291</td>\n",
       "    </tr>\n",
       "    <tr>\n",
       "      <th>1</th>\n",
       "      <td>38</td>\n",
       "      <td>C85</td>\n",
       "      <td>C</td>\n",
       "      <td>1</td>\n",
       "      <td>71.2833</td>\n",
       "      <td>Cumings, Mrs. John Bradley (Florence Briggs Th...</td>\n",
       "      <td>0</td>\n",
       "      <td>2</td>\n",
       "      <td>1</td>\n",
       "      <td>female</td>\n",
       "      <td>1</td>\n",
       "      <td>1</td>\n",
       "      <td>PC 17599</td>\n",
       "      <td>7</td>\n",
       "      <td>Mrs</td>\n",
       "      <td>1</td>\n",
       "      <td>M</td>\n",
       "      <td>0.734744</td>\n",
       "    </tr>\n",
       "    <tr>\n",
       "      <th>2</th>\n",
       "      <td>26</td>\n",
       "      <td>U0</td>\n",
       "      <td>S</td>\n",
       "      <td>0</td>\n",
       "      <td>7.9250</td>\n",
       "      <td>Heikkinen, Miss. Laina</td>\n",
       "      <td>0</td>\n",
       "      <td>3</td>\n",
       "      <td>3</td>\n",
       "      <td>female</td>\n",
       "      <td>0</td>\n",
       "      <td>1</td>\n",
       "      <td>STON/O2. 3101282</td>\n",
       "      <td>3</td>\n",
       "      <td>Miss</td>\n",
       "      <td>0</td>\n",
       "      <td>S</td>\n",
       "      <td>-0.490240</td>\n",
       "    </tr>\n",
       "    <tr>\n",
       "      <th>3</th>\n",
       "      <td>35</td>\n",
       "      <td>C123</td>\n",
       "      <td>S</td>\n",
       "      <td>1</td>\n",
       "      <td>53.1000</td>\n",
       "      <td>Futrelle, Mrs. Jacques Heath (Lily May Peel)</td>\n",
       "      <td>0</td>\n",
       "      <td>4</td>\n",
       "      <td>1</td>\n",
       "      <td>female</td>\n",
       "      <td>1</td>\n",
       "      <td>1</td>\n",
       "      <td>113803</td>\n",
       "      <td>7</td>\n",
       "      <td>Mrs</td>\n",
       "      <td>1</td>\n",
       "      <td>M</td>\n",
       "      <td>0.383183</td>\n",
       "    </tr>\n",
       "    <tr>\n",
       "      <th>4</th>\n",
       "      <td>35</td>\n",
       "      <td>U0</td>\n",
       "      <td>S</td>\n",
       "      <td>0</td>\n",
       "      <td>8.0500</td>\n",
       "      <td>Allen, Mr. William Henry</td>\n",
       "      <td>0</td>\n",
       "      <td>5</td>\n",
       "      <td>3</td>\n",
       "      <td>male</td>\n",
       "      <td>0</td>\n",
       "      <td>0</td>\n",
       "      <td>373450</td>\n",
       "      <td>4</td>\n",
       "      <td>Mr</td>\n",
       "      <td>0</td>\n",
       "      <td>S</td>\n",
       "      <td>-0.487824</td>\n",
       "    </tr>\n",
       "  </tbody>\n",
       "</table>\n",
       "</div>"
      ],
      "text/plain": [
       "   Age Cabin Embarked  Family     Fare  \\\n",
       "0   22    U0        S       1   7.2500   \n",
       "1   38   C85        C       1  71.2833   \n",
       "2   26    U0        S       0   7.9250   \n",
       "3   35  C123        S       1  53.1000   \n",
       "4   35    U0        S       0   8.0500   \n",
       "\n",
       "                                                Name  Parch  PassengerId  \\\n",
       "0                            Braund, Mr. Owen Harris      0            1   \n",
       "1  Cumings, Mrs. John Bradley (Florence Briggs Th...      0            2   \n",
       "2                             Heikkinen, Miss. Laina      0            3   \n",
       "3       Futrelle, Mrs. Jacques Heath (Lily May Peel)      0            4   \n",
       "4                           Allen, Mr. William Henry      0            5   \n",
       "\n",
       "   Pclass     Sex  SibSp  Survived            Ticket  Names Title  Deck  \\\n",
       "0       3    male      1         0         A/5 21171      4    Mr     0   \n",
       "1       1  female      1         1          PC 17599      7   Mrs     1   \n",
       "2       3  female      0         1  STON/O2. 3101282      3  Miss     0   \n",
       "3       1  female      1         1            113803      7   Mrs     1   \n",
       "4       3    male      0         0            373450      4    Mr     0   \n",
       "\n",
       "  Group_size   NorFare  \n",
       "0          M -0.503291  \n",
       "1          M  0.734744  \n",
       "2          S -0.490240  \n",
       "3          M  0.383183  \n",
       "4          S -0.487824  "
      ]
     },
     "execution_count": 37,
     "metadata": {},
     "output_type": "execute_result"
    }
   ],
   "source": [
    "full.head()"
   ]
  },
  {
   "cell_type": "code",
   "execution_count": 21,
   "metadata": {
    "collapsed": false
   },
   "outputs": [],
   "source": [
    "from sklearn.model_selection import train_test_split\n",
    "X = full[~full.Age.isnull()].drop('Age', axis=1)\n",
    "y = full[~full.Age.isnull()].Age\n",
    "X_train, X_test, y_train, y_test = train_test_split(X, y, random_state=42)"
   ]
  },
  {
   "cell_type": "code",
   "execution_count": 24,
   "metadata": {
    "collapsed": true
   },
   "outputs": [],
   "source": [
    "from sklearn.metrics import mean_absolute_error\n",
    "from sklearn.metrics import make_scorer\n",
    "from sklearn.model_selection import GridSearchCV\n",
    "def get_model(estimator, parameters, X_train, y_train, scoring):  \n",
    "    model = GridSearchCV(estimator, param_grid=parameters, scoring=scoring)\n",
    "    model.fit(X_train, y_train)\n",
    "    return model.best_estimator_"
   ]
  },
  {
   "cell_type": "code",
   "execution_count": 25,
   "metadata": {
    "collapsed": false
   },
   "outputs": [
    {
     "name": "stdout",
     "output_type": "stream",
     "text": [
      "XGBRegressor(base_score=0.5, colsample_bylevel=1, colsample_bytree=1, gamma=0,\n",
      "       learning_rate=0.1, max_delta_step=0, max_depth=4,\n",
      "       min_child_weight=1, missing=None, n_estimators=100, nthread=-1,\n",
      "       objective='reg:linear', reg_alpha=0.10000000000000001,\n",
      "       reg_lambda=3.0, scale_pos_weight=1, seed=42, silent=True,\n",
      "       subsample=1)\n"
     ]
    }
   ],
   "source": [
    "import xgboost as xgb\n",
    "\n",
    "XGB = xgb.XGBRegressor(max_depth=4, seed= 42)\n",
    "scoring = make_scorer(mean_absolute_error, greater_is_better=False)\n",
    "parameters = {'reg_alpha':np.linspace(0.1,1.0,5), 'reg_lambda': np.linspace(1.0,3.0,5)}\n",
    "reg_xgb = get_model(XGB, parameters, X_train, y_train, scoring)\n",
    "print (reg_xgb)"
   ]
  },
  {
   "cell_type": "code",
   "execution_count": 26,
   "metadata": {
    "collapsed": false
   },
   "outputs": [
    {
     "name": "stdout",
     "output_type": "stream",
     "text": [
      "Mean absolute error of test data: 7.90107312496\n"
     ]
    }
   ],
   "source": [
    "print (\"Mean absolute error of test data: {}\".format(mean_absolute_error(y_test, reg_xgb.predict(X_test))))"
   ]
  },
  {
   "cell_type": "code",
   "execution_count": 27,
   "metadata": {
    "collapsed": false
   },
   "outputs": [
    {
     "data": {
      "image/png": "[encoded data removed]",
      "text/plain": [
       "<matplotlib.figure.Figure at 0x11d353690>"
      ]
     },
     "metadata": {},
     "output_type": "display_data"
    }
   ],
   "source": [
    "fig = plt.figure(figsize=(15, 6))\n",
    "alpha = 0.5\n",
    "full.Age.value_counts().plot(kind='density', color='#FA2379', label='Before', alpha=alpha)\n",
    "\n",
    "pred = reg_xgb.predict(full[full.Age.isnull()].drop('Age', axis=1))\n",
    "full.set_value(full.Age.isnull(), 'Age', pred)\n",
    "\n",
    "full.Age.value_counts().plot(kind='density', label='After', alpha=alpha)\n",
    "plt.xlabel('Age')\n",
    "plt.title(\"What's the distribution of Age after predicting?\" )\n",
    "plt.legend(loc='best')\n",
    "plt.grid()"
   ]
  },
  {
   "cell_type": "code",
   "execution_count": 28,
   "metadata": {
    "collapsed": false
   },
   "outputs": [
    {
     "name": "stderr",
     "output_type": "stream",
     "text": [
      "/Users/Lesley/anaconda/lib/python2.7/site-packages/sklearn/utils/validation.py:429: DataConversionWarning: Data with input dtype int64 was converted to float64 by StandardScaler.\n",
      "  warnings.warn(msg, _DataConversionWarning)\n"
     ]
    }
   ],
   "source": [
    "full['NorAge'] = pd.Series(scaler.fit_transform(full.Age.reshape(-1,1)).reshape(-1), index=full.index)\n",
    "full['NorNames'] = pd.Series(scaler.fit_transform(full.Names.reshape(-1,1)).reshape(-1), index=full.index)\n",
    "full['Group_num'] = pd.Series(scaler.fit_transform(full.Family.reshape(-1,1)).reshape(-1), index=full.index)"
   ]
  },
  {
   "cell_type": "code",
   "execution_count": 30,
   "metadata": {
    "collapsed": true
   },
   "outputs": [],
   "source": [
    "for col in ['NorAge', 'NorFare', 'NorNames', 'Family']:\n",
    "    setValue(col)\n"
   ]
  },
  {
   "cell_type": "raw",
   "metadata": {},
   "source": [
    "# Encoding sex, feamle: 0 and male: 1"
   ]
  },
  {
   "cell_type": "code",
   "execution_count": 32,
   "metadata": {
    "collapsed": false
   },
   "outputs": [],
   "source": [
    "training.Sex = np.where(training.Sex=='female', 0, 1)\n",
    "testing.Sex = np.where(testing.Sex=='female', 0, 1)"
   ]
  },
  {
   "cell_type": "raw",
   "metadata": {},
   "source": [
    "Convert values of Embarked and Ticket into dummy variables"
   ]
  },
  {
   "cell_type": "code",
   "execution_count": 36,
   "metadata": {
    "collapsed": true
   },
   "outputs": [],
   "source": [
    "training.drop(labels=['PassengerId', 'Name', 'Names', 'Cabin', 'Ticket', 'Age', 'Fare'], axis=1, inplace=True)\n",
    "testing.drop(labels=['Name', 'Names', 'Cabin', 'Ticket', 'Age', 'Fare'], axis=1, inplace=True)\n",
    "training = pd.get_dummies(training, columns=['Embarked', 'Pclass', 'Title', 'Group_size'])\n",
    "testing = pd.get_dummies(testing, columns=['Embarked', 'Pclass', 'Title', 'Group_size'])\n",
    "testing['Title_Sir'] = pd.Series(0, index=testing.index)"
   ]
  },
  {
   "cell_type": "markdown",
   "metadata": {},
   "source": [
    "# Build Model"
   ]
  },
  {
   "cell_type": "code",
   "execution_count": 37,
   "metadata": {
    "collapsed": true
   },
   "outputs": [],
   "source": [
    "from sklearn.model_selection import learning_curve\n",
    "def plot_learning_curve(estimator, title, X, y, ylim=None, cv=None,\n",
    "                        n_jobs=1, train_sizes=np.linspace(.1, 1.0, 5), scoring='accuracy'):\n",
    "    plt.figure(figsize=(10,6))\n",
    "    plt.title(title)\n",
    "    if ylim is not None:\n",
    "        plt.ylim(*ylim)\n",
    "    plt.xlabel(\"Training examples\")\n",
    "    plt.ylabel(scoring)\n",
    "    train_sizes, train_scores, test_scores = learning_curve(estimator, X, y, cv=cv, scoring=scoring,\n",
    "                                                            n_jobs=n_jobs, train_sizes=train_sizes)\n",
    "    train_scores_mean = np.mean(train_scores, axis=1)\n",
    "    train_scores_std = np.std(train_scores, axis=1)\n",
    "    test_scores_mean = np.mean(test_scores, axis=1)\n",
    "    test_scores_std = np.std(test_scores, axis=1)\n",
    "    plt.grid()\n",
    "\n",
    "    plt.fill_between(train_sizes, train_scores_mean - train_scores_std,\n",
    "                     train_scores_mean + train_scores_std, alpha=0.1,\n",
    "                     color=\"r\")\n",
    "    plt.fill_between(train_sizes, test_scores_mean - test_scores_std,\n",
    "                     test_scores_mean + test_scores_std, alpha=0.1, color=\"g\")\n",
    "    plt.plot(train_sizes, train_scores_mean, 'o-', color=\"r\",\n",
    "             label=\"Training score\")\n",
    "    plt.plot(train_sizes, test_scores_mean, 'o-', color=\"g\",\n",
    "             label=\"Cross-validation score\")\n",
    "\n",
    "    plt.legend(loc=\"best\")\n",
    "    return plt"
   ]
  },
  {
   "cell_type": "code",
   "execution_count": 39,
   "metadata": {
    "collapsed": false
   },
   "outputs": [],
   "source": [
    "from sklearn.metrics import roc_curve, auc\n",
    "def plot_roc_curve(estimator, X, y, title):\n",
    "    # Determine the false positive and true positive rates\n",
    "    fpr, tpr, _ = roc_curve(y, estimator.predict_proba(X)[:,1])\n",
    "\n",
    "    # Calculate the AUC\n",
    "    roc_auc = auc(fpr, tpr)\n",
    "    print ('ROC AUC: %0.2f' % roc_auc)\n",
    "\n",
    "    # Plot of a ROC curve for a specific class\n",
    "    plt.figure(figsize=(10,6))\n",
    "    plt.plot(fpr, tpr, label='ROC curve (area = %0.2f)' % roc_auc)\n",
    "    plt.plot([0, 1], [0, 1], 'k--')\n",
    "    plt.xlim([0.0, 1.0])\n",
    "    plt.ylim([0.0, 1.05])\n",
    "    plt.xlabel('False Positive Rate')\n",
    "    plt.ylabel('True Positive Rate')\n",
    "    plt.title('ROC Curve - {}'.format(title))\n",
    "    plt.legend(loc=\"lower right\")\n",
    "    plt.show()"
   ]
  },
  {
   "cell_type": "code",
   "execution_count": 40,
   "metadata": {
    "collapsed": true
   },
   "outputs": [],
   "source": [
    "X = training.drop(['Survived'], axis=1)\n",
    "y = training.Survived\n",
    "X_train, X_test, y_train, y_test = train_test_split(X, y, random_state=42)"
   ]
  },
  {
   "cell_type": "code",
   "execution_count": 41,
   "metadata": {
    "collapsed": true
   },
   "outputs": [],
   "source": [
    "from sklearn.metrics import accuracy_score\n",
    "scoring = make_scorer(accuracy_score, greater_is_better=True)"
   ]
  },
  {
   "cell_type": "markdown",
   "metadata": {},
   "source": [
    "KNN"
   ]
  },
  {
   "cell_type": "code",
   "execution_count": 42,
   "metadata": {
    "collapsed": true
   },
   "outputs": [],
   "source": [
    "from sklearn.neighbors import KNeighborsClassifier\n",
    "KNN = KNeighborsClassifier(weights='uniform')\n",
    "parameters = {'n_neighbors':[3,4,5], 'p':[1,2]}\n",
    "clf_knn = get_model(KNN, parameters, X_train, y_train, scoring)"
   ]
  },
  {
   "cell_type": "code",
   "execution_count": 43,
   "metadata": {
    "collapsed": false
   },
   "outputs": [
    {
     "name": "stdout",
     "output_type": "stream",
     "text": [
      "0.775784753363\n",
      "KNeighborsClassifier(algorithm='auto', leaf_size=30, metric='minkowski',\n",
      "           metric_params=None, n_jobs=1, n_neighbors=3, p=1,\n",
      "           weights='uniform')\n"
     ]
    },
    {
     "data": {
      "image/png": "[encoded data removed]",
      "text/plain": [
       "<matplotlib.figure.Figure at 0x11d813710>"
      ]
     },
     "metadata": {},
     "output_type": "display_data"
    }
   ],
   "source": [
    "print (accuracy_score(y_test, clf_knn.predict(X_test)))\n",
    "print (clf_knn)\n",
    "plot_learning_curve(clf_knn, 'KNN', X, y, cv=4);"
   ]
  },
  {
   "cell_type": "markdown",
   "metadata": {},
   "source": [
    "Random Forest"
   ]
  },
  {
   "cell_type": "code",
   "execution_count": 45,
   "metadata": {
    "collapsed": false
   },
   "outputs": [
    {
     "name": "stdout",
     "output_type": "stream",
     "text": [
      "0.829596412556\n",
      "RandomForestClassifier(bootstrap=True, class_weight=None, criterion='entropy',\n",
      "            max_depth=None, max_features='auto', max_leaf_nodes=None,\n",
      "            min_impurity_split=1e-07, min_samples_leaf=12,\n",
      "            min_samples_split=5, min_weight_fraction_leaf=0.0,\n",
      "            n_estimators=500, n_jobs=1, oob_score=True, random_state=42,\n",
      "            verbose=0, warm_start=False)\n"
     ]
    },
    {
     "data": {
      "text/plain": [
       "<module 'matplotlib.pyplot' from '/Users/Lesley/anaconda/lib/python2.7/site-packages/matplotlib/pyplot.pyc'>"
      ]
     },
     "execution_count": 45,
     "metadata": {},
     "output_type": "execute_result"
    },
    {
     "data": {
      "image/png": "[encoded data removed]",
      "text/plain": [
       "<matplotlib.figure.Figure at 0x11da19990>"
      ]
     },
     "metadata": {},
     "output_type": "display_data"
    }
   ],
   "source": [
    "from sklearn.ensemble import RandomForestClassifier\n",
    "rfc = RandomForestClassifier(random_state=42, criterion='entropy', min_samples_split=5, oob_score=True)\n",
    "parameters = {'n_estimators':[500], 'min_samples_leaf':[12]}\n",
    "clf_rfc1 = get_model(rfc, parameters, X_train, y_train, scoring)\n",
    "print (accuracy_score(y_test, clf_rfc1.predict(X_test)))\n",
    "print (clf_rfc1)\n",
    "plot_learning_curve(clf_rfc1, 'Random Forest', X, y, cv=4)"
   ]
  },
  {
   "cell_type": "code",
   "execution_count": 51,
   "metadata": {
    "collapsed": false
   },
   "outputs": [
    {
     "data": {
      "image/png": "[encoded data removed]",
      "text/plain": [
       "<matplotlib.figure.Figure at 0x11ddeca50>"
      ]
     },
     "metadata": {},
     "output_type": "display_data"
    }
   ],
   "source": [
    "plt.figure(figsize=(10,6))\n",
    "plt.barh(np.arange(X_train.columns.shape[0]), clf_rfc1.feature_importances_, 0.5)\n",
    "plt.yticks(np.arange(X_train.columns.shape[0]), X_train.columns)\n",
    "plt.grid()\n",
    "plt.xticks(np.arange(0,0.2,0.02))\n"
   ]
  },
  {
   "cell_type": "code",
   "execution_count": 52,
   "metadata": {
    "collapsed": false
   },
   "outputs": [
    {
     "name": "stdout",
     "output_type": "stream",
     "text": [
      "RandomForestClassifier(bootstrap=True, class_weight=None, criterion='entropy',\n",
      "            max_depth=None, max_features='auto', max_leaf_nodes=None,\n",
      "            min_impurity_split=1e-07, min_samples_leaf=12,\n",
      "            min_samples_split=5, min_weight_fraction_leaf=0.0,\n",
      "            n_estimators=500, n_jobs=1, oob_score=True, random_state=42,\n",
      "            verbose=0, warm_start=False)\n",
      "0.834080717489\n"
     ]
    },
    {
     "data": {
      "image/png": "[encoded data removed]",
      "text/plain": [
       "<matplotlib.figure.Figure at 0x11da326d0>"
      ]
     },
     "metadata": {},
     "output_type": "display_data"
    }
   ],
   "source": [
    "cols = X_train.columns[clf_rfc1.feature_importances_>=0.016]\n",
    "rfc = RandomForestClassifier(random_state=42, criterion='entropy', min_samples_split=5, oob_score=True)\n",
    "parameters = {'n_estimators':[500], 'min_samples_leaf':[12]}\n",
    "clf_rfc2 = get_model(rfc, parameters, X_train[cols], y_train, scoring)\n",
    "print (clf_rfc2)\n",
    "print (accuracy_score(y_test, clf_rfc2.predict(X_test[cols])))\n",
    "plot_learning_curve(clf_rfc2, 'Random Forest', X[cols], y, cv=4);"
   ]
  },
  {
   "cell_type": "markdown",
   "metadata": {},
   "source": [
    "Logistic Regression"
   ]
  },
  {
   "cell_type": "code",
   "execution_count": 53,
   "metadata": {
    "collapsed": false
   },
   "outputs": [
    {
     "name": "stdout",
     "output_type": "stream",
     "text": [
      "LogisticRegression(C=0.5, class_weight=None, dual=False, fit_intercept=True,\n",
      "          intercept_scaling=1, max_iter=100, multi_class='ovr', n_jobs=1,\n",
      "          penalty='l1', random_state=42, solver='liblinear', tol=0.0001,\n",
      "          verbose=0, warm_start=False)\n",
      "0.811659192825\n"
     ]
    },
    {
     "data": {
      "image/png": "[encoded data removed]",
      "text/plain": [
       "<matplotlib.figure.Figure at 0x11dde6a10>"
      ]
     },
     "metadata": {},
     "output_type": "display_data"
    }
   ],
   "source": [
    "from sklearn.linear_model import LogisticRegression\n",
    "lg = LogisticRegression(random_state=42, penalty='l1')\n",
    "parameters = {'C':[0.5]}\n",
    "clf_lg1 = get_model(lg, parameters, X_train, y_train, scoring)\n",
    "print (clf_lg1)\n",
    "print (accuracy_score(y_test, clf_lg1.predict(X_test)))\n",
    "plot_learning_curve(clf_lg1, 'Logistic Regression', X, y, cv=4);"
   ]
  },
  {
   "cell_type": "markdown",
   "metadata": {},
   "source": [
    "SVC"
   ]
  },
  {
   "cell_type": "code",
   "execution_count": 54,
   "metadata": {
    "collapsed": false
   },
   "outputs": [
    {
     "name": "stdout",
     "output_type": "stream",
     "text": [
      "SVC(C=35, cache_size=200, class_weight=None, coef0=0.1,\n",
      "  decision_function_shape=None, degree=2, gamma=0.0055, kernel='poly',\n",
      "  max_iter=-1, probability=True, random_state=42, shrinking=True,\n",
      "  tol=0.001, verbose=False)\n",
      "0.838565022422\n"
     ]
    },
    {
     "data": {
      "image/png": "[encoded data removed]",
      "text/plain": [
       "<matplotlib.figure.Figure at 0x11dc6af50>"
      ]
     },
     "metadata": {},
     "output_type": "display_data"
    }
   ],
   "source": [
    "from sklearn.svm import SVC\n",
    "svc = SVC(random_state=42, kernel='poly', probability=True)\n",
    "parameters = {'C': [35], 'gamma': [0.0055], 'coef0': [0.1],\n",
    "              'degree':[2]}\n",
    "clf_svc = get_model(svc, parameters, X_train, y_train, scoring)\n",
    "print (clf_svc)\n",
    "print (accuracy_score(y_test, clf_svc.predict(X_test)))\n",
    "plot_learning_curve(clf_svc, 'SVC', X, y, cv=4);\n"
   ]
  },
  {
   "cell_type": "markdown",
   "metadata": {},
   "source": [
    "XGB"
   ]
  },
  {
   "cell_type": "code",
   "execution_count": 55,
   "metadata": {
    "collapsed": false
   },
   "outputs": [
    {
     "name": "stdout",
     "output_type": "stream",
     "text": [
      "0.829596412556\n",
      "XGBClassifier(base_score=0.5, colsample_bylevel=1, colsample_bytree=1,\n",
      "       gamma=0, learning_rate=0.1, max_delta_step=0, max_depth=3,\n",
      "       min_child_weight=1, missing=None, n_estimators=400, nthread=-1,\n",
      "       objective='binary:logistic', reg_alpha=3.0, reg_lambda=4.0,\n",
      "       scale_pos_weight=1, seed=42, silent=True, subsample=1)\n"
     ]
    },
    {
     "data": {
      "image/png": "[encoded data removed]",
      "text/plain": [
       "<matplotlib.figure.Figure at 0x11dc07650>"
      ]
     },
     "metadata": {},
     "output_type": "display_data"
    }
   ],
   "source": [
    "xgb1 = xgb.XGBClassifier(seed=42, max_depth=3, objective='binary:logistic', n_estimators=400)\n",
    "parameters = {'learning_rate':[0.1],\n",
    "              'reg_alpha':[3.0], 'reg_lambda': [4.0]}\n",
    "clf_xgb1 = get_model(xgb1, parameters, X_train, y_train, scoring)\n",
    "print (accuracy_score(y_test, clf_xgb1.predict(X_test)))\n",
    "print (clf_xgb1)\n",
    "plot_learning_curve(clf_xgb1, 'XGB', X, y, cv=4);"
   ]
  },
  {
   "cell_type": "markdown",
   "metadata": {},
   "source": [
    "Ensemble"
   ]
  },
  {
   "cell_type": "code",
   "execution_count": 56,
   "metadata": {
    "collapsed": false
   },
   "outputs": [
    {
     "name": "stdout",
     "output_type": "stream",
     "text": [
      "0.829596412556\n",
      "VotingClassifier(estimators=[('xgb1', XGBClassifier(base_score=0.5, colsample_bylevel=1, colsample_bytree=1,\n",
      "       gamma=0, learning_rate=0.1, max_delta_step=0, max_depth=3,\n",
      "       min_child_weight=1, missing=None, n_estimators=400, nthread=-1,\n",
      "       objective='binary:logistic', reg_alpha=3.0, reg_lambda=4.0,\n",
      "    ...owski',\n",
      "           metric_params=None, n_jobs=1, n_neighbors=3, p=1,\n",
      "           weights='uniform'))],\n",
      "         n_jobs=1, voting='hard', weights=[4, 1, 1, 1, 1, 2])\n"
     ]
    },
    {
     "data": {
      "image/png": "[encoded data removed]",
      "text/plain": [
       "<matplotlib.figure.Figure at 0x11dd0bad0>"
      ]
     },
     "metadata": {},
     "output_type": "display_data"
    }
   ],
   "source": [
    "from sklearn.ensemble import VotingClassifier\n",
    "clf_vc = VotingClassifier(estimators=[('xgb1', clf_xgb1), ('lg1', clf_lg1), ('svc', clf_svc), \n",
    "                                      ('rfc1', clf_rfc1),('rfc2', clf_rfc2), ('knn', clf_knn)], \n",
    "                          voting='hard', weights=[4,1,1,1,1,2])\n",
    "clf_vc = clf_vc.fit(X_train, y_train)\n",
    "print (accuracy_score(y_test, clf_vc.predict(X_test)))\n",
    "print (clf_vc)\n",
    "plot_learning_curve(clf_vc, 'Ensemble', X, y, cv=4);"
   ]
  },
  {
   "cell_type": "code",
   "execution_count": null,
   "metadata": {
    "collapsed": true
   },
   "outputs": [],
   "source": [
    "PassengerId = test.PassengerId\n",
    "test.drop('PassengerId', axis=1, inplace=True)\n",
    "def submission(model, fname, X):\n",
    "    ans = pd.DataFrame(columns=['PassengerId', 'Survived'])\n",
    "    ans.PassengerId = PassengerId\n",
    "    ans.Survived = pd.Series(model.predict(X), index=ans.index)\n",
    "    ans.to_csv(fname, index=False)"
   ]
  }
 ],
 "metadata": {
  "kernelspec": {
   "display_name": "Python 2",
   "language": "python",
   "name": "python2"
  },
  "language_info": {
   "codemirror_mode": {
    "name": "ipython",
    "version": 2
   },
   "file_extension": ".py",
   "mimetype": "text/x-python",
   "name": "python",
   "nbconvert_exporter": "python",
   "pygments_lexer": "ipython2",
   "version": "2.7.13"
  }
 },
 "nbformat": 4,
 "nbformat_minor": 0
}
